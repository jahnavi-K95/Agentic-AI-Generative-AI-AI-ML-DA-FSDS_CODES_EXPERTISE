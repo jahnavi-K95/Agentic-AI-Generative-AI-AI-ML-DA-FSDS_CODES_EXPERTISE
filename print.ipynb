{
 "cells": [
  {
   "cell_type": "raw",
   "id": "69aee2bd-f1d8-4672-ba7f-4695f394dd92",
   "metadata": {},
   "source": [
    "#Print is used for answer"
   ]
  },
  {
   "cell_type": "code",
   "execution_count": 1,
   "id": "40473abb-a32d-45d6-b6b0-f78d810d27e3",
   "metadata": {},
   "outputs": [
    {
     "data": {
      "text/plain": [
       "60"
      ]
     },
     "execution_count": 1,
     "metadata": {},
     "output_type": "execute_result"
    }
   ],
   "source": [
    "a=50\n",
    "b=60\n",
    "a\n",
    "b"
   ]
  },
  {
   "cell_type": "code",
   "execution_count": 2,
   "id": "883fd8ab-1cf3-444c-ab1e-fee862108f24",
   "metadata": {},
   "outputs": [
    {
     "name": "stdout",
     "output_type": "stream",
     "text": [
      "50\n",
      "60\n"
     ]
    }
   ],
   "source": [
    "a=50\n",
    "b=60\n",
    "print(a)\n",
    "print(b)"
   ]
  },
  {
   "cell_type": "code",
   "execution_count": 4,
   "id": "362219ea-8d22-4765-8a3a-6627cfcad016",
   "metadata": {},
   "outputs": [
    {
     "name": "stdout",
     "output_type": "stream",
     "text": [
      "50\n",
      "50 60\n",
      "PYTHON PROGRAMMING\n",
      "50 60 PYTHON PROGRAMMING\n"
     ]
    }
   ],
   "source": [
    "print(50)\n",
    "print(50,60)\n",
    "print('PYTHON PROGRAMMING')\n",
    "print(50,60,'PYTHON PROGRAMMING')"
   ]
  },
  {
   "cell_type": "code",
   "execution_count": 5,
   "id": "cc293f23-9771-49cd-8f9c-5004f7068a95",
   "metadata": {},
   "outputs": [
    {
     "name": "stdout",
     "output_type": "stream",
     "text": [
      "The addition of 80 and 90 is= 170\n"
     ]
    }
   ],
   "source": [
    "num1=80\n",
    "num2=90\n",
    "add=num1+num2\n",
    "print('The addition of',num1, 'and',num2,'is=',add)"
   ]
  },
  {
   "cell_type": "code",
   "execution_count": 6,
   "id": "be65214d-01cf-4c35-9a7c-4dd72b636575",
   "metadata": {},
   "outputs": [],
   "source": [
    "name='python programming'\n",
    "age=25\n",
    "city='Hyderabad'"
   ]
  },
  {
   "cell_type": "code",
   "execution_count": 7,
   "id": "30f434fb-d20c-4be5-9396-aa398ea760db",
   "metadata": {},
   "outputs": [
    {
     "name": "stdout",
     "output_type": "stream",
     "text": [
      "My name is python programming and i am 25 years old from Hyderabad\n"
     ]
    }
   ],
   "source": [
    "print('My name is', name, 'and i am', age,'years old from',city)"
   ]
  },
  {
   "cell_type": "markdown",
   "id": "6c2388dd-7c1e-4225-98fc-3ce3ac46e9e0",
   "metadata": {},
   "source": [
    "# Print Format method"
   ]
  },
  {
   "cell_type": "code",
   "execution_count": 9,
   "id": "aa1a6050-70f9-4237-b710-5a4429ccd51d",
   "metadata": {},
   "outputs": [
    {
     "name": "stdout",
     "output_type": "stream",
     "text": [
      "The addition of 50 and 60 is=110\n"
     ]
    }
   ],
   "source": [
    "num1=50\n",
    "num2=60\n",
    "add=num1+num2\n",
    "print('The addition of {} and {} is={}'.format(num1,num2,add))"
   ]
  },
  {
   "cell_type": "raw",
   "id": "fbcde850-6ca6-4287-ba54-7c9d9f90d77c",
   "metadata": {},
   "source": [
    "# Format Method \n",
    "The addition of num1 and num2 which is 50 and 60 is= 110\n",
    ". step1: Decide how the print statement should be\n",
    ". for example: The addition of 50 and 60 is= 110\n",
    ". Then replace the variable position with curly brackets{}\n",
    ". Then apply .format(val1,val2,....val-n)"
   ]
  },
  {
   "cell_type": "code",
   "execution_count": 10,
   "id": "3a693a2b-648b-404e-9243-1e2a4216ee6a",
   "metadata": {},
   "outputs": [
    {
     "name": "stdout",
     "output_type": "stream",
     "text": [
      "Hello my name is python prgogramming,and I am 20 years old from Hyd\n"
     ]
    }
   ],
   "source": [
    "name='python prgogramming'\n",
    "age=20\n",
    "city='Hyd'\n",
    "print('Hello my name is {},and I am {} years old from {}'.format(name,age,city))"
   ]
  },
  {
   "cell_type": "code",
   "execution_count": 12,
   "id": "6459b134-910f-405f-8b9d-54285988ef61",
   "metadata": {},
   "outputs": [
    {
     "name": "stdout",
     "output_type": "stream",
     "text": [
      "The average of 100,25 and333 is= 152.66666666666666 or 152.67 or 76\n"
     ]
    }
   ],
   "source": [
    "num1=100\n",
    "num2=25\n",
    "num3=333\n",
    "avg=(num1+num2+num3)/3 # either we can use avg=round(num1+num2+num3)/3,2\n",
    "avg1=round((num1+num2+num3)/3,2) # now (num1+num2+num3)=avg\n",
    "avg2=round(avg/2)\n",
    "\n",
    "print('The average of {},{} and{} is= {} or {} or {}'.format(num1,num2,num3,avg,avg1,avg2))"
   ]
  },
  {
   "cell_type": "raw",
   "id": "edc0fe9f-f2d4-4b0d-b3b5-c4d4a59db747",
   "metadata": {},
   "source": [
    "# Short format method( f String method)\n",
    ". variable should be in curly braces\n",
    ". Everything should be written inside quotes''\n",
    ".at begining just add f"
   ]
  },
  {
   "cell_type": "code",
   "execution_count": 13,
   "id": "eab74ec5-0d56-4bca-b137-e9d1808b7373",
   "metadata": {},
   "outputs": [
    {
     "name": "stdout",
     "output_type": "stream",
     "text": [
      "The addition of 50 and 60 is=110\n"
     ]
    }
   ],
   "source": [
    "num1=50\n",
    "num2=60\n",
    "add=num1+num2\n",
    "print( f'The addition of {num1} and {num2} is={add}')"
   ]
  },
  {
   "cell_type": "code",
   "execution_count": 15,
   "id": "e17546f4-0d14-4966-bb0e-7d66be2a488f",
   "metadata": {},
   "outputs": [
    {
     "name": "stdout",
     "output_type": "stream",
     "text": [
      "Hello my name is Python programming and I am 25 years old from Hyderabad.\n"
     ]
    }
   ],
   "source": [
    "name='Python programming'\n",
    "age=25\n",
    "city='Hyderabad'\n",
    "print(f'Hello my name is {name} and I am {age} years old from {city}.')"
   ]
  },
  {
   "cell_type": "code",
   "execution_count": 24,
   "id": "f67a30b2-21b2-4bb9-b6c1-3beb49ba3b5a",
   "metadata": {},
   "outputs": [
    {
     "name": "stdout",
     "output_type": "stream",
     "text": [
      "The average of 100,25 and 333 is=152.67\n"
     ]
    }
   ],
   "source": [
    "num1=100\n",
    "num2=25\n",
    "num3=333\n",
    "avg=(num1+num2+num3)\n",
    "avg=round((avg)/3,2)\n",
    "\n",
    "print( f'The average of {num1},{num2} and {num3} is={avg}')"
   ]
  },
  {
   "cell_type": "code",
   "execution_count": 25,
   "id": "e3ea56d2-aab2-4723-a1ea-a253bef4b767",
   "metadata": {},
   "outputs": [
    {
     "name": "stdout",
     "output_type": "stream",
     "text": [
      "The addition of 10 and 20 is= 30\n",
      "The addition of 10 and 20 is= 30\n",
      "The addition of 10 and 20 is=30\n"
     ]
    }
   ],
   "source": [
    "#COMBINING ALL\n",
    "num1=10\n",
    "num2=20\n",
    "add = num1 + num2\n",
    "print('The addition of',num1,'and',num2,'is=',add)\n",
    "print('The addition of {} and {} is= {}'.format(num1,num2,add))\n",
    "print(f'The addition of {num1} and {num2} is={add}')"
   ]
  },
  {
   "cell_type": "markdown",
   "id": "b3c42e7c-ac57-4dc3-b852-36a74ced71f6",
   "metadata": {},
   "source": [
    "END STATEMENT"
   ]
  },
  {
   "cell_type": "code",
   "execution_count": 29,
   "id": "0c4f58ef-257b-492e-a105-0387cccf0e76",
   "metadata": {},
   "outputs": [
    {
     "name": "stdout",
     "output_type": "stream",
     "text": [
      "Hello\n",
      "Good Morning\n"
     ]
    }
   ],
   "source": [
    "print('Hello') #statement 1\n",
    "print('Good Morning') #statement 2\n"
   ]
  },
  {
   "cell_type": "code",
   "execution_count": 31,
   "id": "036d9468-24dd-47bc-87cb-49c35aec5dbd",
   "metadata": {},
   "outputs": [
    {
     "name": "stdout",
     "output_type": "stream",
     "text": [
      "Hello World good day\n"
     ]
    }
   ],
   "source": [
    "\n",
    "print('Hello', end=' ')\n",
    "print('World good day')"
   ]
  },
  {
   "cell_type": "markdown",
   "id": "eba219d4-54bd-4f01-aa4c-8b98cd2cc38c",
   "metadata": {},
   "source": [
    "Separator\n",
    ".Only can Use one print statement\n",
    ".Inside that print statement we can add multiple values\n"
   ]
  },
  {
   "cell_type": "code",
   "execution_count": 32,
   "id": "bb29c0a5-01e6-4e7e-8e66-a7967ca5fa1f",
   "metadata": {},
   "outputs": [
    {
     "name": "stdout",
     "output_type": "stream",
     "text": [
      "Hello--->Hi--->How are you doing today\n"
     ]
    }
   ],
   "source": [
    "print('Hello','Hi','How are you doing today',sep='--->')"
   ]
  },
  {
   "cell_type": "code",
   "execution_count": 33,
   "id": "0dcc4d30-0a56-4935-a6d3-80272ffe0b8c",
   "metadata": {},
   "outputs": [
    {
     "name": "stdout",
     "output_type": "stream",
     "text": [
      "Hello&Hi&How are you doing today\n"
     ]
    }
   ],
   "source": [
    "print('Hello','Hi','How are you doing today',sep='&')"
   ]
  },
  {
   "cell_type": "code",
   "execution_count": 34,
   "id": "8ebfc575-fe34-4133-84b0-fc7a18a28dcf",
   "metadata": {},
   "outputs": [
    {
     "name": "stdout",
     "output_type": "stream",
     "text": [
      "Hello@Hi@How are you doing today\n"
     ]
    }
   ],
   "source": [
    "print('Hello','Hi','How are you doing today',sep='@')"
   ]
  },
  {
   "cell_type": "code",
   "execution_count": 35,
   "id": "774483df-93a9-4e95-ac6f-04179684e8fa",
   "metadata": {},
   "outputs": [
    {
     "name": "stdout",
     "output_type": "stream",
     "text": [
      "Hello Hi How are you doing today\n"
     ]
    }
   ],
   "source": [
    "print('Hello','Hi','How are you doing today',sep=' ')"
   ]
  },
  {
   "cell_type": "code",
   "execution_count": 36,
   "id": "d0dab4eb-3337-4468-bb55-cc4eeea4023e",
   "metadata": {},
   "outputs": [
    {
     "name": "stdout",
     "output_type": "stream",
     "text": [
      "Hello,Hi,How are you doing today\n"
     ]
    }
   ],
   "source": [
    "print('Hello','Hi','How are you doing today',sep=',')"
   ]
  },
  {
   "cell_type": "code",
   "execution_count": 37,
   "id": "f347b42f-7645-4205-a166-62c0becb45b2",
   "metadata": {},
   "outputs": [
    {
     "name": "stdout",
     "output_type": "stream",
     "text": [
      "Hello1Hi1How are you doing today\n"
     ]
    }
   ],
   "source": [
    "print('Hello','Hi','How are you doing today',sep='1')"
   ]
  },
  {
   "cell_type": "code",
   "execution_count": 38,
   "id": "e689c64c-ee0c-4c32-8aed-70b1361ea952",
   "metadata": {},
   "outputs": [
    {
     "name": "stdout",
     "output_type": "stream",
     "text": [
      "4 .\n"
     ]
    }
   ],
   "source": [
    "print(4,'.')"
   ]
  },
  {
   "cell_type": "code",
   "execution_count": 41,
   "id": "93402499-2a53-4ff5-999b-1c9cd8b6fe45",
   "metadata": {},
   "outputs": [
    {
     "name": "stdout",
     "output_type": "stream",
     "text": [
      "4  .\n"
     ]
    }
   ],
   "source": [
    "print(4,'.',sep='  ')"
   ]
  },
  {
   "cell_type": "code",
   "execution_count": 42,
   "id": "0a3fa76e-181b-4db7-9ca9-18e49d81da52",
   "metadata": {},
   "outputs": [
    {
     "name": "stdout",
     "output_type": "stream",
     "text": [
      "3 4 5.\n"
     ]
    }
   ],
   "source": [
    "print(3,4,end=' ')\n",
    "print(5,'.',sep='')"
   ]
  },
  {
   "cell_type": "code",
   "execution_count": null,
   "id": "8438dc7b-6d95-492c-88b3-4b3967b61d40",
   "metadata": {},
   "outputs": [],
   "source": []
  }
 ],
 "metadata": {
  "kernelspec": {
   "display_name": "Python 3 (ipykernel)",
   "language": "python",
   "name": "python3"
  },
  "language_info": {
   "codemirror_mode": {
    "name": "ipython",
    "version": 3
   },
   "file_extension": ".py",
   "mimetype": "text/x-python",
   "name": "python",
   "nbconvert_exporter": "python",
   "pygments_lexer": "ipython3",
   "version": "3.13.5"
  }
 },
 "nbformat": 4,
 "nbformat_minor": 5
}

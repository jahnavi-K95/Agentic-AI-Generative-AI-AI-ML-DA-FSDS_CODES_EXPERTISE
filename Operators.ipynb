{
 "cells": [
  {
   "cell_type": "markdown",
   "id": "f879ed40-b50c-40d4-aa19-649b2b436d94",
   "metadata": {},
   "source": [
    "Types of Operators"
   ]
  },
  {
   "cell_type": "raw",
   "id": "d6e7b36d-27fc-4843-bb44-4f5520e0bb87",
   "metadata": {},
   "source": [
    "1.Arithematic Operator( +,-,*,/,//,%,**)\n",
    "2.Assignment Operator(=,+=,-=,*=,/=,//=)\n",
    "3.Relational Operator(>,<,>=,<=,==,!=)\n",
    "4.Logical Operator(AND,OR,NOT) \n",
    "5.unary Operator(-)"
   ]
  },
  {
   "cell_type": "code",
   "execution_count": 2,
   "id": "f458f8d4-f98a-4a59-943f-25e33973ed58",
   "metadata": {},
   "outputs": [
    {
     "data": {
      "text/plain": [
       "110"
      ]
     },
     "execution_count": 2,
     "metadata": {},
     "output_type": "execute_result"
    }
   ],
   "source": [
    "a=50\n",
    "b=60\n",
    "a+b"
   ]
  },
  {
   "cell_type": "code",
   "execution_count": 3,
   "id": "6ad4db7f-4930-4085-a26d-c42d0e418cf6",
   "metadata": {},
   "outputs": [
    {
     "data": {
      "text/plain": [
       "-10"
      ]
     },
     "execution_count": 3,
     "metadata": {},
     "output_type": "execute_result"
    }
   ],
   "source": [
    "a-b"
   ]
  },
  {
   "cell_type": "code",
   "execution_count": 4,
   "id": "8545e7e6-4def-4731-adac-de1c915b597a",
   "metadata": {},
   "outputs": [
    {
     "data": {
      "text/plain": [
       "10"
      ]
     },
     "execution_count": 4,
     "metadata": {},
     "output_type": "execute_result"
    }
   ],
   "source": [
    "b-a"
   ]
  },
  {
   "cell_type": "code",
   "execution_count": 5,
   "id": "835b8b8d-5bd3-4b78-bb31-d29e430b14e7",
   "metadata": {},
   "outputs": [
    {
     "data": {
      "text/plain": [
       "3000"
      ]
     },
     "execution_count": 5,
     "metadata": {},
     "output_type": "execute_result"
    }
   ],
   "source": [
    "a*b"
   ]
  },
  {
   "cell_type": "code",
   "execution_count": 6,
   "id": "75ccdfd2-c882-4182-974c-b4aa9cba5571",
   "metadata": {},
   "outputs": [
    {
     "data": {
      "text/plain": [
       "1.2"
      ]
     },
     "execution_count": 6,
     "metadata": {},
     "output_type": "execute_result"
    }
   ],
   "source": [
    "b/a"
   ]
  },
  {
   "cell_type": "code",
   "execution_count": 7,
   "id": "f13197a2-23d3-45ea-83ec-1e819b7ddb3e",
   "metadata": {},
   "outputs": [
    {
     "data": {
      "text/plain": [
       "0.8333333333333334"
      ]
     },
     "execution_count": 7,
     "metadata": {},
     "output_type": "execute_result"
    }
   ],
   "source": [
    "a/b"
   ]
  },
  {
   "cell_type": "code",
   "execution_count": 8,
   "id": "cff69882-29c8-47a9-b23b-a35a2ced09b8",
   "metadata": {},
   "outputs": [
    {
     "data": {
      "text/plain": [
       "0"
      ]
     },
     "execution_count": 8,
     "metadata": {},
     "output_type": "execute_result"
    }
   ],
   "source": [
    "a//b"
   ]
  },
  {
   "cell_type": "code",
   "execution_count": 9,
   "id": "186d9817-e25f-4108-a9d6-ec31ee772794",
   "metadata": {},
   "outputs": [
    {
     "data": {
      "text/plain": [
       "50"
      ]
     },
     "execution_count": 9,
     "metadata": {},
     "output_type": "execute_result"
    }
   ],
   "source": [
    "a%b"
   ]
  },
  {
   "cell_type": "code",
   "execution_count": 10,
   "id": "50f434d2-7f85-4105-9fa8-9dc38b3268f2",
   "metadata": {},
   "outputs": [
    {
     "data": {
      "text/plain": [
       "867361737988403547205962240695953369140625000000000000000000000000000000000000000000000000000000000000"
      ]
     },
     "execution_count": 10,
     "metadata": {},
     "output_type": "execute_result"
    }
   ],
   "source": [
    "a**b"
   ]
  },
  {
   "cell_type": "raw",
   "id": "4ecdaaf7-1aad-4f7f-9b76-0af85fcb52d9",
   "metadata": {},
   "source": [
    "2. Bitwise operator\n",
    "   2.1 Complemenet Operator(~)"
   ]
  },
  {
   "cell_type": "code",
   "execution_count": 11,
   "id": "dfd5ce46-c509-45a4-b01f-eb8f09751ae2",
   "metadata": {},
   "outputs": [
    {
     "data": {
      "text/plain": [
       "-91"
      ]
     },
     "execution_count": 11,
     "metadata": {},
     "output_type": "execute_result"
    }
   ],
   "source": [
    "a=90\n",
    "~a"
   ]
  },
  {
   "cell_type": "code",
   "execution_count": 14,
   "id": "2fc6b19f-c6be-4cf3-bb05-4338d0e6328b",
   "metadata": {},
   "outputs": [
    {
     "data": {
      "text/plain": [
       "139"
      ]
     },
     "execution_count": 14,
     "metadata": {},
     "output_type": "execute_result"
    }
   ],
   "source": [
    "a=50\n",
    "b=89\n",
    "a+b"
   ]
  },
  {
   "cell_type": "code",
   "execution_count": 15,
   "id": "bf4977c1-0571-4971-a79b-26751f4d8e95",
   "metadata": {},
   "outputs": [
    {
     "data": {
      "text/plain": [
       "90"
      ]
     },
     "execution_count": 15,
     "metadata": {},
     "output_type": "execute_result"
    }
   ],
   "source": [
    "a=56\n",
    "a+=34\n",
    "a"
   ]
  },
  {
   "cell_type": "code",
   "execution_count": 16,
   "id": "d5bd5f1e-133b-4564-b731-9c38d805e8c9",
   "metadata": {},
   "outputs": [
    {
     "data": {
      "text/plain": [
       "-8"
      ]
     },
     "execution_count": 16,
     "metadata": {},
     "output_type": "execute_result"
    }
   ],
   "source": [
    "a=90\n",
    "a-=98\n",
    "a"
   ]
  },
  {
   "cell_type": "code",
   "execution_count": 17,
   "id": "82532040-116b-4011-9048-4e4097cd124a",
   "metadata": {},
   "outputs": [
    {
     "data": {
      "text/plain": [
       "4365"
      ]
     },
     "execution_count": 17,
     "metadata": {},
     "output_type": "execute_result"
    }
   ],
   "source": [
    "a=97\n",
    "a*=45\n",
    "a"
   ]
  },
  {
   "cell_type": "code",
   "execution_count": 18,
   "id": "701e0c9c-b0b0-41ef-ae50-eab464f34aff",
   "metadata": {},
   "outputs": [
    {
     "data": {
      "text/plain": [
       "0.8333333333333334"
      ]
     },
     "execution_count": 18,
     "metadata": {},
     "output_type": "execute_result"
    }
   ],
   "source": [
    "a=100\n",
    "a/=120\n",
    "a"
   ]
  },
  {
   "cell_type": "code",
   "execution_count": 19,
   "id": "7da1afa9-be3f-4fa9-a73f-0a1b37359114",
   "metadata": {},
   "outputs": [
    {
     "data": {
      "text/plain": [
       "0"
      ]
     },
     "execution_count": 19,
     "metadata": {},
     "output_type": "execute_result"
    }
   ],
   "source": [
    "a=100\n",
    "a//=120\n",
    "a"
   ]
  },
  {
   "cell_type": "markdown",
   "id": "8fc39b87-4d89-404f-9b2b-be0f5ed19162",
   "metadata": {},
   "source": [
    "Relational Operator"
   ]
  },
  {
   "cell_type": "code",
   "execution_count": 20,
   "id": "5c9752dc-8a6b-4855-b341-5cee33ba5fa9",
   "metadata": {},
   "outputs": [],
   "source": [
    "a=45\n",
    "b=90"
   ]
  },
  {
   "cell_type": "code",
   "execution_count": 21,
   "id": "ba140d47-0275-4eb3-b711-22243ec2656a",
   "metadata": {},
   "outputs": [
    {
     "data": {
      "text/plain": [
       "False"
      ]
     },
     "execution_count": 21,
     "metadata": {},
     "output_type": "execute_result"
    }
   ],
   "source": [
    "a>b"
   ]
  },
  {
   "cell_type": "code",
   "execution_count": 22,
   "id": "19cdc737-956e-4229-84a9-a0e1c7acae27",
   "metadata": {},
   "outputs": [
    {
     "data": {
      "text/plain": [
       "True"
      ]
     },
     "execution_count": 22,
     "metadata": {},
     "output_type": "execute_result"
    }
   ],
   "source": [
    "a<b"
   ]
  },
  {
   "cell_type": "code",
   "execution_count": 23,
   "id": "61bf3ad8-4aeb-41c1-bf44-7722c0f92b27",
   "metadata": {},
   "outputs": [
    {
     "data": {
      "text/plain": [
       "False"
      ]
     },
     "execution_count": 23,
     "metadata": {},
     "output_type": "execute_result"
    }
   ],
   "source": [
    "a>=b"
   ]
  },
  {
   "cell_type": "code",
   "execution_count": 24,
   "id": "4188056e-a2c3-47d8-8d35-1ac6729d670c",
   "metadata": {},
   "outputs": [
    {
     "data": {
      "text/plain": [
       "True"
      ]
     },
     "execution_count": 24,
     "metadata": {},
     "output_type": "execute_result"
    }
   ],
   "source": [
    "a<=b"
   ]
  },
  {
   "cell_type": "code",
   "execution_count": 25,
   "id": "f4c4187b-98c3-4b54-b298-e3a1c83586b5",
   "metadata": {},
   "outputs": [
    {
     "data": {
      "text/plain": [
       "True"
      ]
     },
     "execution_count": 25,
     "metadata": {},
     "output_type": "execute_result"
    }
   ],
   "source": [
    "a!=b"
   ]
  },
  {
   "cell_type": "code",
   "execution_count": 26,
   "id": "9661e806-9aa7-42b7-be7f-1993e5e031fa",
   "metadata": {},
   "outputs": [
    {
     "data": {
      "text/plain": [
       "False"
      ]
     },
     "execution_count": 26,
     "metadata": {},
     "output_type": "execute_result"
    }
   ],
   "source": [
    "a==b"
   ]
  },
  {
   "cell_type": "markdown",
   "id": "329b1bd2-0bfd-4284-a819-ee738f2e9f63",
   "metadata": {},
   "source": [
    "Logical Operators"
   ]
  },
  {
   "cell_type": "code",
   "execution_count": 27,
   "id": "3fe120d2-43fb-4444-a0d3-09670bb8913c",
   "metadata": {},
   "outputs": [],
   "source": [
    "a=89\n",
    "b=78"
   ]
  },
  {
   "cell_type": "code",
   "execution_count": 30,
   "id": "844dbf86-51d3-4ed3-868b-14b2e533fd68",
   "metadata": {},
   "outputs": [
    {
     "data": {
      "text/plain": [
       "False"
      ]
     },
     "execution_count": 30,
     "metadata": {},
     "output_type": "execute_result"
    }
   ],
   "source": [
    "a > 56 and b<54"
   ]
  },
  {
   "cell_type": "code",
   "execution_count": 31,
   "id": "9ed1a75e-00ff-4386-8a8e-96f76ef513ef",
   "metadata": {},
   "outputs": [
    {
     "data": {
      "text/plain": [
       "False"
      ]
     },
     "execution_count": 31,
     "metadata": {},
     "output_type": "execute_result"
    }
   ],
   "source": [
    "a>0 and b<0"
   ]
  },
  {
   "cell_type": "code",
   "execution_count": 32,
   "id": "3ddd406a-81bb-4632-bf98-49a9f20ea604",
   "metadata": {},
   "outputs": [
    {
     "data": {
      "text/plain": [
       "True"
      ]
     },
     "execution_count": 32,
     "metadata": {},
     "output_type": "execute_result"
    }
   ],
   "source": [
    "a>0 or b<0"
   ]
  },
  {
   "cell_type": "code",
   "execution_count": 33,
   "id": "473c6531-a510-4cbf-aff7-97c96762e10c",
   "metadata": {},
   "outputs": [
    {
     "data": {
      "text/plain": [
       "False"
      ]
     },
     "execution_count": 33,
     "metadata": {},
     "output_type": "execute_result"
    }
   ],
   "source": [
    "not(a)"
   ]
  },
  {
   "cell_type": "code",
   "execution_count": 34,
   "id": "29d42227-6789-453d-a2fc-9629363c84d8",
   "metadata": {},
   "outputs": [
    {
     "data": {
      "text/plain": [
       "False"
      ]
     },
     "execution_count": 34,
     "metadata": {},
     "output_type": "execute_result"
    }
   ],
   "source": [
    "not(b)"
   ]
  },
  {
   "cell_type": "code",
   "execution_count": 36,
   "id": "7713dbae-3779-44f9-9324-3ca1af506760",
   "metadata": {},
   "outputs": [
    {
     "data": {
      "text/plain": [
       "True"
      ]
     },
     "execution_count": 36,
     "metadata": {},
     "output_type": "execute_result"
    }
   ],
   "source": [
    "q=True\n",
    "q"
   ]
  },
  {
   "cell_type": "code",
   "execution_count": 37,
   "id": "45e03611-0e9e-4c82-a94f-446299f1c361",
   "metadata": {},
   "outputs": [
    {
     "data": {
      "text/plain": [
       "False"
      ]
     },
     "execution_count": 37,
     "metadata": {},
     "output_type": "execute_result"
    }
   ],
   "source": [
    "not(q)"
   ]
  },
  {
   "cell_type": "code",
   "execution_count": null,
   "id": "42c57ccc-41f1-4e7a-9d84-b21b7fa6c360",
   "metadata": {},
   "outputs": [],
   "source": []
  }
 ],
 "metadata": {
  "kernelspec": {
   "display_name": "Python 3 (ipykernel)",
   "language": "python",
   "name": "python3"
  },
  "language_info": {
   "codemirror_mode": {
    "name": "ipython",
    "version": 3
   },
   "file_extension": ".py",
   "mimetype": "text/x-python",
   "name": "python",
   "nbconvert_exporter": "python",
   "pygments_lexer": "ipython3",
   "version": "3.13.5"
  }
 },
 "nbformat": 4,
 "nbformat_minor": 5
}

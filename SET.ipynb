{
 "cells": [
  {
   "cell_type": "markdown",
   "id": "5e2af67e-98e9-4383-a87d-b9ec7e8f7568",
   "metadata": {},
   "source": [
    "SET"
   ]
  },
  {
   "cell_type": "code",
   "execution_count": 1,
   "id": "e3f86b47-aa20-408e-a423-ea977cd38b7e",
   "metadata": {},
   "outputs": [],
   "source": [
    "s={}"
   ]
  },
  {
   "cell_type": "code",
   "execution_count": 2,
   "id": "e8b06322-19e0-4d54-bac3-45fcb6917560",
   "metadata": {},
   "outputs": [
    {
     "data": {
      "text/plain": [
       "{}"
      ]
     },
     "execution_count": 2,
     "metadata": {},
     "output_type": "execute_result"
    }
   ],
   "source": [
    "s"
   ]
  },
  {
   "cell_type": "code",
   "execution_count": 3,
   "id": "4287b73a-fe27-4bbe-8678-2d02c5ed3a79",
   "metadata": {},
   "outputs": [
    {
     "data": {
      "text/plain": [
       "dict"
      ]
     },
     "execution_count": 3,
     "metadata": {},
     "output_type": "execute_result"
    }
   ],
   "source": [
    "type(s)"
   ]
  },
  {
   "cell_type": "code",
   "execution_count": 4,
   "id": "9505a51a-f005-4306-940e-0db998cf2ca1",
   "metadata": {},
   "outputs": [
    {
     "data": {
      "text/plain": [
       "set()"
      ]
     },
     "execution_count": 4,
     "metadata": {},
     "output_type": "execute_result"
    }
   ],
   "source": [
    "s1=set()\n",
    "s1"
   ]
  },
  {
   "cell_type": "code",
   "execution_count": 5,
   "id": "687effbb-cb73-4eec-b26a-040278ba3b89",
   "metadata": {},
   "outputs": [
    {
     "data": {
      "text/plain": [
       "{10, 25, 30, 40, 50, 90}"
      ]
     },
     "execution_count": 5,
     "metadata": {},
     "output_type": "execute_result"
    }
   ],
   "source": [
    "s2={90,10,30,40,25,10,50}\n",
    "s2"
   ]
  },
  {
   "cell_type": "code",
   "execution_count": 6,
   "id": "a9566cc5-2c42-49e0-bf83-e57f35e77635",
   "metadata": {},
   "outputs": [
    {
     "data": {
      "text/plain": [
       "set"
      ]
     },
     "execution_count": 6,
     "metadata": {},
     "output_type": "execute_result"
    }
   ],
   "source": [
    "type(s2)"
   ]
  },
  {
   "cell_type": "code",
   "execution_count": 7,
   "id": "3ebf6af2-17c4-4ca8-8d49-78094f13753f",
   "metadata": {},
   "outputs": [
    {
     "data": {
      "text/plain": [
       "{10, 25, 30, 40, 50, 90}"
      ]
     },
     "execution_count": 7,
     "metadata": {},
     "output_type": "execute_result"
    }
   ],
   "source": [
    "s3=s2.copy()\n",
    "s3"
   ]
  },
  {
   "cell_type": "code",
   "execution_count": 8,
   "id": "6c73bd23-b78c-4b29-a58a-3ef1a39aabf4",
   "metadata": {},
   "outputs": [
    {
     "data": {
      "text/plain": [
       "{10, 25, 30, 40, 50, 90}"
      ]
     },
     "execution_count": 8,
     "metadata": {},
     "output_type": "execute_result"
    }
   ],
   "source": [
    "s3"
   ]
  },
  {
   "cell_type": "code",
   "execution_count": 9,
   "id": "73400a17-1536-4fc0-a187-095d06d68b82",
   "metadata": {},
   "outputs": [],
   "source": [
    "s3.add(2.4)"
   ]
  },
  {
   "cell_type": "code",
   "execution_count": 10,
   "id": "9181e5e5-29a1-47c7-9841-86e08a6a8b25",
   "metadata": {},
   "outputs": [
    {
     "data": {
      "text/plain": [
       "{2.4, 10, 25, 30, 40, 50, 90}"
      ]
     },
     "execution_count": 10,
     "metadata": {},
     "output_type": "execute_result"
    }
   ],
   "source": [
    "s3"
   ]
  },
  {
   "cell_type": "code",
   "execution_count": 11,
   "id": "e1e5866c-139e-486d-b55d-a81412d0b0d5",
   "metadata": {},
   "outputs": [],
   "source": [
    "s3.add('nit')"
   ]
  },
  {
   "cell_type": "code",
   "execution_count": 12,
   "id": "14f48c2c-7830-43e8-b9fb-fe869abb77e9",
   "metadata": {},
   "outputs": [
    {
     "data": {
      "text/plain": [
       "{10, 2.4, 25, 30, 40, 50, 90, 'nit'}"
      ]
     },
     "execution_count": 12,
     "metadata": {},
     "output_type": "execute_result"
    }
   ],
   "source": [
    "s3"
   ]
  },
  {
   "cell_type": "code",
   "execution_count": 13,
   "id": "8e1f7356-b881-4f74-b206-19c8023680c9",
   "metadata": {},
   "outputs": [],
   "source": [
    "s3.add(8+9j)\n",
    "s3.add(True)"
   ]
  },
  {
   "cell_type": "code",
   "execution_count": 14,
   "id": "c6bb641f-4389-4034-8e7c-fce616c573d7",
   "metadata": {},
   "outputs": [
    {
     "data": {
      "text/plain": [
       "{(8+9j), 10, 2.4, 25, 30, 40, 50, 90, True, 'nit'}"
      ]
     },
     "execution_count": 14,
     "metadata": {},
     "output_type": "execute_result"
    }
   ],
   "source": [
    "s3"
   ]
  },
  {
   "cell_type": "code",
   "execution_count": 15,
   "id": "8bb4115e-6363-4211-9dda-b34033097fd0",
   "metadata": {},
   "outputs": [
    {
     "name": "stdout",
     "output_type": "stream",
     "text": [
      "{}\n",
      "set()\n",
      "{50, 90, 40, 25, 10, 30}\n",
      "{True, 2.4, 10, 'nit', 25, 90, 30, (8+9j), 40, 50}\n"
     ]
    }
   ],
   "source": [
    "print(s)\n",
    "print(s1)\n",
    "print(s2)\n",
    "print(s3)"
   ]
  },
  {
   "cell_type": "code",
   "execution_count": 16,
   "id": "1af2f2c6-c432-4521-a062-bf1e938da38c",
   "metadata": {},
   "outputs": [
    {
     "data": {
      "text/plain": [
       "{}"
      ]
     },
     "execution_count": 16,
     "metadata": {},
     "output_type": "execute_result"
    }
   ],
   "source": [
    "s"
   ]
  },
  {
   "cell_type": "code",
   "execution_count": 17,
   "id": "80b23cf1-f221-445c-b9c9-d27cd9b54696",
   "metadata": {},
   "outputs": [
    {
     "data": {
      "text/plain": [
       "{10, 25, 30, 40, 50, 90}"
      ]
     },
     "execution_count": 17,
     "metadata": {},
     "output_type": "execute_result"
    }
   ],
   "source": [
    "s2"
   ]
  },
  {
   "cell_type": "code",
   "execution_count": 18,
   "id": "8ad85c4e-049d-43f8-a571-b2483b61c0c9",
   "metadata": {},
   "outputs": [
    {
     "data": {
      "text/plain": [
       "dict"
      ]
     },
     "execution_count": 18,
     "metadata": {},
     "output_type": "execute_result"
    }
   ],
   "source": [
    "type(s)"
   ]
  },
  {
   "cell_type": "code",
   "execution_count": 19,
   "id": "f313de0f-3214-493f-be6a-cbf9232c4fa0",
   "metadata": {},
   "outputs": [
    {
     "data": {
      "text/plain": [
       "{(8+9j), 10, 2.4, 25, 30, 40, 50, 90, True, 'nit'}"
      ]
     },
     "execution_count": 19,
     "metadata": {},
     "output_type": "execute_result"
    }
   ],
   "source": [
    "s3"
   ]
  },
  {
   "cell_type": "code",
   "execution_count": 20,
   "id": "2b8e82f4-00c1-4ed8-9b0d-4a6d500f7bf2",
   "metadata": {},
   "outputs": [],
   "source": [
    "s3.remove(8+9j)"
   ]
  },
  {
   "cell_type": "code",
   "execution_count": 21,
   "id": "7f75ed3a-4687-4047-b2bd-a42b6f85f1c1",
   "metadata": {},
   "outputs": [
    {
     "data": {
      "text/plain": [
       "{10, 2.4, 25, 30, 40, 50, 90, True, 'nit'}"
      ]
     },
     "execution_count": 21,
     "metadata": {},
     "output_type": "execute_result"
    }
   ],
   "source": [
    "s3"
   ]
  },
  {
   "cell_type": "code",
   "execution_count": 22,
   "id": "d63c88cc-281c-4df3-b5bf-bd6e8bcfbbeb",
   "metadata": {},
   "outputs": [
    {
     "ename": "KeyError",
     "evalue": "2000",
     "output_type": "error",
     "traceback": [
      "\u001b[1;31m---------------------------------------------------------------------------\u001b[0m",
      "\u001b[1;31mKeyError\u001b[0m                                  Traceback (most recent call last)",
      "Cell \u001b[1;32mIn[22], line 1\u001b[0m\n\u001b[1;32m----> 1\u001b[0m s3\u001b[38;5;241m.\u001b[39mremove(\u001b[38;5;241m2000\u001b[39m)\n",
      "\u001b[1;31mKeyError\u001b[0m: 2000"
     ]
    }
   ],
   "source": [
    "s3.remove(2000)"
   ]
  },
  {
   "cell_type": "code",
   "execution_count": 23,
   "id": "d7f0e41c-32bb-415f-ac89-03c39172d0cb",
   "metadata": {},
   "outputs": [
    {
     "data": {
      "text/plain": [
       "{10, 2.4, 25, 30, 40, 50, 90, True, 'nit'}"
      ]
     },
     "execution_count": 23,
     "metadata": {},
     "output_type": "execute_result"
    }
   ],
   "source": [
    "s3"
   ]
  },
  {
   "cell_type": "code",
   "execution_count": 24,
   "id": "91d8cea3-df79-4571-8b6f-f78a90a28552",
   "metadata": {},
   "outputs": [],
   "source": [
    "s3.discard(10)"
   ]
  },
  {
   "cell_type": "code",
   "execution_count": 25,
   "id": "36dcebbb-1f06-4194-bcc2-7cfa1532f211",
   "metadata": {},
   "outputs": [
    {
     "data": {
      "text/plain": [
       "{2.4, 25, 30, 40, 50, 90, True, 'nit'}"
      ]
     },
     "execution_count": 25,
     "metadata": {},
     "output_type": "execute_result"
    }
   ],
   "source": [
    "s3"
   ]
  },
  {
   "cell_type": "code",
   "execution_count": 26,
   "id": "836da4ef-e4d8-4114-96e8-a7b886c46d39",
   "metadata": {},
   "outputs": [
    {
     "data": {
      "text/plain": [
       "{2.4, 25, 30, 40, 50, 90, True, 'nit'}"
      ]
     },
     "execution_count": 26,
     "metadata": {},
     "output_type": "execute_result"
    }
   ],
   "source": [
    "s3.discard(2000)\n",
    "s3"
   ]
  },
  {
   "cell_type": "code",
   "execution_count": 27,
   "id": "17d12886-f76e-4faa-b219-ac7e87d2dae1",
   "metadata": {},
   "outputs": [
    {
     "data": {
      "text/plain": [
       "{2.4, 25, 30, 40, 50, 90, True, 'nit'}"
      ]
     },
     "execution_count": 27,
     "metadata": {},
     "output_type": "execute_result"
    }
   ],
   "source": [
    "s3"
   ]
  },
  {
   "cell_type": "code",
   "execution_count": 28,
   "id": "83298b87-5859-4fdf-8239-5bdfe0ca7363",
   "metadata": {},
   "outputs": [
    {
     "data": {
      "text/plain": [
       "True"
      ]
     },
     "execution_count": 28,
     "metadata": {},
     "output_type": "execute_result"
    }
   ],
   "source": [
    "s3.pop()"
   ]
  },
  {
   "cell_type": "code",
   "execution_count": 29,
   "id": "4bffd143-2fde-4e87-b26c-0bc5ea05553f",
   "metadata": {},
   "outputs": [
    {
     "data": {
      "text/plain": [
       "{2.4, 25, 30, 40, 50, 90, 'nit'}"
      ]
     },
     "execution_count": 29,
     "metadata": {},
     "output_type": "execute_result"
    }
   ],
   "source": [
    "s3"
   ]
  },
  {
   "cell_type": "code",
   "execution_count": 30,
   "id": "c35274fb-a39c-491a-bbab-42267f0239ba",
   "metadata": {},
   "outputs": [
    {
     "data": {
      "text/plain": [
       "2.4"
      ]
     },
     "execution_count": 30,
     "metadata": {},
     "output_type": "execute_result"
    }
   ],
   "source": [
    "s3.pop()"
   ]
  },
  {
   "cell_type": "code",
   "execution_count": 31,
   "id": "9d4a1325-1d99-4b3b-8d48-ff6325ddcc9b",
   "metadata": {},
   "outputs": [
    {
     "data": {
      "text/plain": [
       "{25, 30, 40, 50, 90, 'nit'}"
      ]
     },
     "execution_count": 31,
     "metadata": {},
     "output_type": "execute_result"
    }
   ],
   "source": [
    "s3"
   ]
  },
  {
   "cell_type": "code",
   "execution_count": 33,
   "id": "1d3c724b-1073-479e-823b-3898cfd61038",
   "metadata": {},
   "outputs": [
    {
     "data": {
      "text/plain": [
       "'nit'"
      ]
     },
     "execution_count": 33,
     "metadata": {},
     "output_type": "execute_result"
    }
   ],
   "source": [
    "s3.pop()"
   ]
  },
  {
   "cell_type": "code",
   "execution_count": 34,
   "id": "7cdb6297-cb24-44be-aeff-3b6803e131ac",
   "metadata": {},
   "outputs": [
    {
     "data": {
      "text/plain": [
       "{25, 30, 40, 50, 90}"
      ]
     },
     "execution_count": 34,
     "metadata": {},
     "output_type": "execute_result"
    }
   ],
   "source": [
    "s3"
   ]
  },
  {
   "cell_type": "code",
   "execution_count": 35,
   "id": "36358bf8-d7de-4547-84d4-412aa6d591a7",
   "metadata": {},
   "outputs": [
    {
     "ename": "TypeError",
     "evalue": "'set' object is not subscriptable",
     "output_type": "error",
     "traceback": [
      "\u001b[1;31m---------------------------------------------------------------------------\u001b[0m",
      "\u001b[1;31mTypeError\u001b[0m                                 Traceback (most recent call last)",
      "Cell \u001b[1;32mIn[35], line 1\u001b[0m\n\u001b[1;32m----> 1\u001b[0m s3[:]\n",
      "\u001b[1;31mTypeError\u001b[0m: 'set' object is not subscriptable"
     ]
    }
   ],
   "source": [
    "s3[:]"
   ]
  },
  {
   "cell_type": "code",
   "execution_count": 36,
   "id": "f04df6e2-bc59-43b1-bc36-93f48afe672a",
   "metadata": {},
   "outputs": [
    {
     "data": {
      "text/plain": [
       "{25, 30, 40, 50, 90}"
      ]
     },
     "execution_count": 36,
     "metadata": {},
     "output_type": "execute_result"
    }
   ],
   "source": [
    "s3"
   ]
  },
  {
   "cell_type": "code",
   "execution_count": 37,
   "id": "86cfd6ee-cba8-4ff8-b9b6-3983b94753e8",
   "metadata": {},
   "outputs": [],
   "source": [
    "s3.add('nit')"
   ]
  },
  {
   "cell_type": "code",
   "execution_count": 38,
   "id": "8a63e7ec-565e-43f3-ac09-83d2b714160c",
   "metadata": {},
   "outputs": [
    {
     "data": {
      "text/plain": [
       "{25, 30, 40, 50, 90, 'nit'}"
      ]
     },
     "execution_count": 38,
     "metadata": {},
     "output_type": "execute_result"
    }
   ],
   "source": [
    "s3"
   ]
  },
  {
   "cell_type": "code",
   "execution_count": 39,
   "id": "3f0cb20a-026a-4407-a9f9-3e3553058dc4",
   "metadata": {},
   "outputs": [
    {
     "data": {
      "text/plain": [
       "True"
      ]
     },
     "execution_count": 39,
     "metadata": {},
     "output_type": "execute_result"
    }
   ],
   "source": [
    "40 in s3"
   ]
  },
  {
   "cell_type": "markdown",
   "id": "089d1d00-3f36-4d08-9ccf-2579cc018f77",
   "metadata": {},
   "source": [
    "SET OPERATION"
   ]
  },
  {
   "cell_type": "code",
   "execution_count": 40,
   "id": "8eb0b8ef-e873-416a-abb3-68e0118be997",
   "metadata": {},
   "outputs": [],
   "source": [
    "a={1,2,3,4,5}\n",
    "b={4,5,6,7,8}\n",
    "c={8,9,10}"
   ]
  },
  {
   "cell_type": "code",
   "execution_count": 41,
   "id": "3bd62989-aab8-466c-8483-a4ff73394eb0",
   "metadata": {},
   "outputs": [
    {
     "data": {
      "text/plain": [
       "set"
      ]
     },
     "execution_count": 41,
     "metadata": {},
     "output_type": "execute_result"
    }
   ],
   "source": [
    "type(c)"
   ]
  },
  {
   "cell_type": "code",
   "execution_count": 42,
   "id": "5ea6e4eb-eb5e-4825-89cb-3499f5fd4350",
   "metadata": {},
   "outputs": [
    {
     "data": {
      "text/plain": [
       "{1, 2, 3, 4, 5, 6, 7, 8, 9, 10}"
      ]
     },
     "execution_count": 42,
     "metadata": {},
     "output_type": "execute_result"
    }
   ],
   "source": [
    "a.union(b,c)"
   ]
  },
  {
   "cell_type": "code",
   "execution_count": 43,
   "id": "6d7a366b-f3cf-49de-a532-efe0d1a71e15",
   "metadata": {},
   "outputs": [
    {
     "name": "stdout",
     "output_type": "stream",
     "text": [
      "{1, 2, 3, 4, 5}\n",
      "{4, 5, 6, 7, 8}\n",
      "{8, 9, 10}\n"
     ]
    }
   ],
   "source": [
    "print(a)\n",
    "print(b)\n",
    "print(c)\n"
   ]
  },
  {
   "cell_type": "code",
   "execution_count": 44,
   "id": "73bf4e16-cb8c-49f0-a346-dae9bbb63cf0",
   "metadata": {},
   "outputs": [
    {
     "data": {
      "text/plain": [
       "{1, 2, 3, 4, 5, 6, 7, 8}"
      ]
     },
     "execution_count": 44,
     "metadata": {},
     "output_type": "execute_result"
    }
   ],
   "source": [
    "a | b"
   ]
  },
  {
   "cell_type": "code",
   "execution_count": 45,
   "id": "70534ee6-8b42-4170-a188-36d828d3c853",
   "metadata": {},
   "outputs": [
    {
     "data": {
      "text/plain": [
       "{4, 5, 6, 7, 8, 9, 10}"
      ]
     },
     "execution_count": 45,
     "metadata": {},
     "output_type": "execute_result"
    }
   ],
   "source": [
    "b | c"
   ]
  },
  {
   "cell_type": "code",
   "execution_count": 46,
   "id": "c3cd6e05-76cb-4634-a166-19f76611f71c",
   "metadata": {},
   "outputs": [
    {
     "data": {
      "text/plain": [
       "{1, 2, 3, 4, 5, 6, 7, 8, 9, 10}"
      ]
     },
     "execution_count": 46,
     "metadata": {},
     "output_type": "execute_result"
    }
   ],
   "source": [
    "a|b|c"
   ]
  },
  {
   "cell_type": "code",
   "execution_count": 47,
   "id": "4a304bb4-119c-4cbd-a001-795645e45884",
   "metadata": {},
   "outputs": [
    {
     "data": {
      "text/plain": [
       "{1, 2, 3, 4, 5, 8, 9, 10}"
      ]
     },
     "execution_count": 47,
     "metadata": {},
     "output_type": "execute_result"
    }
   ],
   "source": [
    "a|c"
   ]
  },
  {
   "cell_type": "code",
   "execution_count": 48,
   "id": "4412936f-a10a-401c-85f0-0f458dd1e406",
   "metadata": {},
   "outputs": [
    {
     "data": {
      "text/plain": [
       "{4, 5, 6, 7, 8, 9, 10}"
      ]
     },
     "execution_count": 48,
     "metadata": {},
     "output_type": "execute_result"
    }
   ],
   "source": [
    "b|c"
   ]
  },
  {
   "cell_type": "code",
   "execution_count": 49,
   "id": "cd0be98c-6977-4aa8-a043-ff0f0b8c7f33",
   "metadata": {},
   "outputs": [
    {
     "data": {
      "text/plain": [
       "{1, 2, 3, 4, 5, 8, 9, 10}"
      ]
     },
     "execution_count": 49,
     "metadata": {},
     "output_type": "execute_result"
    }
   ],
   "source": [
    "c|a"
   ]
  },
  {
   "cell_type": "code",
   "execution_count": 50,
   "id": "d4f0d809-da8c-4f99-b363-b5899061043a",
   "metadata": {},
   "outputs": [
    {
     "data": {
      "text/plain": [
       "{1, 2, 3, 4, 5, 6, 7, 8, 9, 10}"
      ]
     },
     "execution_count": 50,
     "metadata": {},
     "output_type": "execute_result"
    }
   ],
   "source": [
    "a|c|b"
   ]
  },
  {
   "cell_type": "markdown",
   "id": "d34bf4ac-42d1-411a-b54a-db9a6da03a5e",
   "metadata": {},
   "source": [
    "Intersection"
   ]
  },
  {
   "cell_type": "code",
   "execution_count": 51,
   "id": "8430fdd6-59fb-4858-838e-af8b67fb656b",
   "metadata": {},
   "outputs": [],
   "source": [
    "a={1,2,3,4,5}\n",
    "b={4,5,6,7,8}\n",
    "c={8,9,10}"
   ]
  },
  {
   "cell_type": "code",
   "execution_count": 52,
   "id": "c811f9b6-dd49-4f74-aab6-b26019a5fa3a",
   "metadata": {},
   "outputs": [
    {
     "data": {
      "text/plain": [
       "{4, 5}"
      ]
     },
     "execution_count": 52,
     "metadata": {},
     "output_type": "execute_result"
    }
   ],
   "source": [
    "a.intersection(b)"
   ]
  },
  {
   "cell_type": "code",
   "execution_count": 53,
   "id": "ae80d86a-19af-4b5f-b51d-8ded31b8e173",
   "metadata": {},
   "outputs": [
    {
     "data": {
      "text/plain": [
       "{8}"
      ]
     },
     "execution_count": 53,
     "metadata": {},
     "output_type": "execute_result"
    }
   ],
   "source": [
    "b.intersection(c)"
   ]
  },
  {
   "cell_type": "code",
   "execution_count": 54,
   "id": "a283705d-b5ed-4748-84a0-b3aa8074b778",
   "metadata": {},
   "outputs": [
    {
     "data": {
      "text/plain": [
       "{4, 5}"
      ]
     },
     "execution_count": 54,
     "metadata": {},
     "output_type": "execute_result"
    }
   ],
   "source": [
    "a&b"
   ]
  },
  {
   "cell_type": "code",
   "execution_count": 55,
   "id": "49b20497-f65b-4955-b414-5151614be95b",
   "metadata": {},
   "outputs": [
    {
     "data": {
      "text/plain": [
       "{8}"
      ]
     },
     "execution_count": 55,
     "metadata": {},
     "output_type": "execute_result"
    }
   ],
   "source": [
    "b&c"
   ]
  },
  {
   "cell_type": "markdown",
   "id": "63a01c49-aaee-4f48-a7ff-d1ac02a5a203",
   "metadata": {},
   "source": [
    "DIFFERENCE"
   ]
  },
  {
   "cell_type": "code",
   "execution_count": 56,
   "id": "fd359d18-89ed-4b93-b2e6-2a928a221efe",
   "metadata": {},
   "outputs": [],
   "source": [
    "a={1,2,3,4,5}\n",
    "b={4,5,6,7,8}\n",
    "c={8,9,10}"
   ]
  },
  {
   "cell_type": "code",
   "execution_count": 57,
   "id": "dec6a51d-5a4b-4dc9-949e-847692e4d6ab",
   "metadata": {},
   "outputs": [
    {
     "data": {
      "text/plain": [
       "{1, 2, 3}"
      ]
     },
     "execution_count": 57,
     "metadata": {},
     "output_type": "execute_result"
    }
   ],
   "source": [
    "a.difference(b)"
   ]
  },
  {
   "cell_type": "code",
   "execution_count": 58,
   "id": "b4f1ab4d-495d-4aee-ac98-cb96229c364f",
   "metadata": {},
   "outputs": [
    {
     "data": {
      "text/plain": [
       "{6, 7, 8}"
      ]
     },
     "execution_count": 58,
     "metadata": {},
     "output_type": "execute_result"
    }
   ],
   "source": [
    "b.difference(a)"
   ]
  },
  {
   "cell_type": "code",
   "execution_count": 59,
   "id": "37ecd287-6f86-4d5f-b3dc-9b001ceb1ee5",
   "metadata": {},
   "outputs": [
    {
     "data": {
      "text/plain": [
       "{1, 2, 3, 4, 5}"
      ]
     },
     "execution_count": 59,
     "metadata": {},
     "output_type": "execute_result"
    }
   ],
   "source": [
    "a.difference(c)"
   ]
  },
  {
   "cell_type": "code",
   "execution_count": 60,
   "id": "2f3106f4-f667-43c2-a221-b0eeeb9eb1db",
   "metadata": {},
   "outputs": [],
   "source": [
    "a={1,2,3,4,5}\n",
    "b={4,5,6,7,8}\n",
    "c={8,9,10}"
   ]
  },
  {
   "cell_type": "code",
   "execution_count": 61,
   "id": "114318a2-3cde-46f8-90c8-e0121dd87610",
   "metadata": {},
   "outputs": [
    {
     "data": {
      "text/plain": [
       "{1, 2, 3}"
      ]
     },
     "execution_count": 61,
     "metadata": {},
     "output_type": "execute_result"
    }
   ],
   "source": [
    "a-b"
   ]
  },
  {
   "cell_type": "code",
   "execution_count": 62,
   "id": "53a47695-537f-48d7-97a5-0f0df07fe33e",
   "metadata": {},
   "outputs": [
    {
     "data": {
      "text/plain": [
       "{4, 5, 6, 7}"
      ]
     },
     "execution_count": 62,
     "metadata": {},
     "output_type": "execute_result"
    }
   ],
   "source": [
    "b-c"
   ]
  },
  {
   "cell_type": "code",
   "execution_count": 63,
   "id": "7ef29221-de71-4a1b-83df-1f03d18b72a7",
   "metadata": {},
   "outputs": [
    {
     "data": {
      "text/plain": [
       "{6, 7, 8}"
      ]
     },
     "execution_count": 63,
     "metadata": {},
     "output_type": "execute_result"
    }
   ],
   "source": [
    "b-a"
   ]
  },
  {
   "cell_type": "code",
   "execution_count": 64,
   "id": "3c0f7de1-d6cb-4296-99fb-54978cf113f6",
   "metadata": {},
   "outputs": [
    {
     "data": {
      "text/plain": [
       "{1, 2, 3}"
      ]
     },
     "execution_count": 64,
     "metadata": {},
     "output_type": "execute_result"
    }
   ],
   "source": [
    "a-b-c"
   ]
  },
  {
   "cell_type": "code",
   "execution_count": null,
   "id": "e8167f6c-6392-47fb-85f1-6ff1a9a73607",
   "metadata": {},
   "outputs": [],
   "source": []
  }
 ],
 "metadata": {
  "kernelspec": {
   "display_name": "Python 3 (ipykernel)",
   "language": "python",
   "name": "python3"
  },
  "language_info": {
   "codemirror_mode": {
    "name": "ipython",
    "version": 3
   },
   "file_extension": ".py",
   "mimetype": "text/x-python",
   "name": "python",
   "nbconvert_exporter": "python",
   "pygments_lexer": "ipython3",
   "version": "3.13.5"
  }
 },
 "nbformat": 4,
 "nbformat_minor": 5
}

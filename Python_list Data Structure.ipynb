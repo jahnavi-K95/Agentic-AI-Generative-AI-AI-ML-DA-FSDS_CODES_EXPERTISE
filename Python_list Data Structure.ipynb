{
 "cells": [
  {
   "cell_type": "markdown",
   "id": "2eb1badd-85c9-48e3-bd65-08130035d4f5",
   "metadata": {},
   "source": [
    "LIST"
   ]
  },
  {
   "cell_type": "code",
   "execution_count": 1,
   "id": "8796c479-68fc-4e37-b43c-46c63dd4e314",
   "metadata": {},
   "outputs": [
    {
     "data": {
      "text/plain": [
       "[]"
      ]
     },
     "execution_count": 1,
     "metadata": {},
     "output_type": "execute_result"
    }
   ],
   "source": [
    "l = []\n",
    "l"
   ]
  },
  {
   "cell_type": "code",
   "execution_count": 2,
   "id": "e62809c2-d6cd-4553-928e-17d66a6e378d",
   "metadata": {},
   "outputs": [
    {
     "data": {
      "text/plain": [
       "list"
      ]
     },
     "execution_count": 2,
     "metadata": {},
     "output_type": "execute_result"
    }
   ],
   "source": [
    "type(l)"
   ]
  },
  {
   "cell_type": "code",
   "execution_count": 3,
   "id": "4f1593ce-0f38-47bf-a3d4-aec7946c888a",
   "metadata": {},
   "outputs": [
    {
     "data": {
      "text/plain": [
       "0"
      ]
     },
     "execution_count": 3,
     "metadata": {},
     "output_type": "execute_result"
    }
   ],
   "source": [
    "len(l)"
   ]
  },
  {
   "cell_type": "code",
   "execution_count": 4,
   "id": "2fd7728c-47b3-481d-b6a6-3edb5de007e3",
   "metadata": {},
   "outputs": [
    {
     "ename": "TypeError",
     "evalue": "list.append() takes exactly one argument (0 given)",
     "output_type": "error",
     "traceback": [
      "\u001b[1;31m---------------------------------------------------------------------------\u001b[0m",
      "\u001b[1;31mTypeError\u001b[0m                                 Traceback (most recent call last)",
      "Cell \u001b[1;32mIn[4], line 1\u001b[0m\n\u001b[1;32m----> 1\u001b[0m l\u001b[38;5;241m.\u001b[39mappend()\n\u001b[0;32m      2\u001b[0m l\n",
      "\u001b[1;31mTypeError\u001b[0m: list.append() takes exactly one argument (0 given)"
     ]
    }
   ],
   "source": [
    "l.append()\n",
    "l"
   ]
  },
  {
   "cell_type": "code",
   "execution_count": 5,
   "id": "bb7cd9cd-5588-44d0-bdbd-77dc23a58714",
   "metadata": {},
   "outputs": [],
   "source": [
    "l.append(10)"
   ]
  },
  {
   "cell_type": "code",
   "execution_count": 6,
   "id": "813a8c07-b06d-4572-8165-43a70bd85eef",
   "metadata": {},
   "outputs": [
    {
     "data": {
      "text/plain": [
       "[10]"
      ]
     },
     "execution_count": 6,
     "metadata": {},
     "output_type": "execute_result"
    }
   ],
   "source": [
    "l"
   ]
  },
  {
   "cell_type": "code",
   "execution_count": 7,
   "id": "5784f321-ec27-4dd5-8942-3e4932a7a6a8",
   "metadata": {},
   "outputs": [],
   "source": [
    "l.append(20)\n",
    "l.append(30)\n",
    "l.append(40)"
   ]
  },
  {
   "cell_type": "code",
   "execution_count": 8,
   "id": "0db7e151-6698-40cb-b3fa-5e7c83196949",
   "metadata": {},
   "outputs": [
    {
     "data": {
      "text/plain": [
       "[10, 20, 30, 40]"
      ]
     },
     "execution_count": 8,
     "metadata": {},
     "output_type": "execute_result"
    }
   ],
   "source": [
    "l"
   ]
  },
  {
   "cell_type": "code",
   "execution_count": 9,
   "id": "f77feaab-af08-40ce-ab91-e0ef7f5833fe",
   "metadata": {},
   "outputs": [
    {
     "data": {
      "text/plain": [
       "4"
      ]
     },
     "execution_count": 9,
     "metadata": {},
     "output_type": "execute_result"
    }
   ],
   "source": [
    "len(l)"
   ]
  },
  {
   "cell_type": "code",
   "execution_count": 10,
   "id": "2f2858df-7a2e-437f-9406-95c87de8320e",
   "metadata": {},
   "outputs": [
    {
     "data": {
      "text/plain": [
       "[10, 20, 30, 40, 50]"
      ]
     },
     "execution_count": 10,
     "metadata": {},
     "output_type": "execute_result"
    }
   ],
   "source": [
    "l.append(50)\n",
    "l"
   ]
  },
  {
   "cell_type": "code",
   "execution_count": 12,
   "id": "4dc58e98-6542-4f1c-a18f-759658a9e5c1",
   "metadata": {},
   "outputs": [
    {
     "data": {
      "text/plain": [
       "[10, 3.5, 'twenty', True, (3+5j)]"
      ]
     },
     "execution_count": 12,
     "metadata": {},
     "output_type": "execute_result"
    }
   ],
   "source": [
    "l1=[10,3.5,'twenty',True,3+5j]\n",
    "l1"
   ]
  },
  {
   "cell_type": "code",
   "execution_count": 13,
   "id": "3b6ad358-139d-432a-9b7c-d8a142b7a9c9",
   "metadata": {},
   "outputs": [
    {
     "name": "stdout",
     "output_type": "stream",
     "text": [
      "[10, 20, 30, 40, 50]\n",
      "[10, 3.5, 'twenty', True, (3+5j)]\n"
     ]
    }
   ],
   "source": [
    "print(l)\n",
    "print(l1)"
   ]
  },
  {
   "cell_type": "code",
   "execution_count": 14,
   "id": "ee4d19bf-9e22-422b-973a-f6b8c977fb6b",
   "metadata": {},
   "outputs": [
    {
     "name": "stdout",
     "output_type": "stream",
     "text": [
      "5\n",
      "5\n"
     ]
    }
   ],
   "source": [
    "print(len(l))\n",
    "print(len(l1))"
   ]
  },
  {
   "cell_type": "code",
   "execution_count": 15,
   "id": "b91b3a5d-b9ba-4b5e-870b-0a85ae3254cb",
   "metadata": {},
   "outputs": [
    {
     "name": "stdout",
     "output_type": "stream",
     "text": [
      "140708115887016\n",
      "2301737359232\n"
     ]
    }
   ],
   "source": [
    "print(id(1))\n",
    "print(id(l1))"
   ]
  },
  {
   "cell_type": "code",
   "execution_count": 16,
   "id": "ecdccb70-71cd-4163-8baa-7eaef81029ee",
   "metadata": {},
   "outputs": [
    {
     "ename": "NameError",
     "evalue": "name 'l2' is not defined",
     "output_type": "error",
     "traceback": [
      "\u001b[1;31m---------------------------------------------------------------------------\u001b[0m",
      "\u001b[1;31mNameError\u001b[0m                                 Traceback (most recent call last)",
      "Cell \u001b[1;32mIn[16], line 1\u001b[0m\n\u001b[1;32m----> 1\u001b[0m l2\n",
      "\u001b[1;31mNameError\u001b[0m: name 'l2' is not defined"
     ]
    }
   ],
   "source": [
    "l2"
   ]
  },
  {
   "cell_type": "code",
   "execution_count": 18,
   "id": "522f189d-590d-4261-af42-a4b253388c41",
   "metadata": {},
   "outputs": [
    {
     "data": {
      "text/plain": [
       "[10, 3.5, 'twenty', True, (3+5j)]"
      ]
     },
     "execution_count": 18,
     "metadata": {},
     "output_type": "execute_result"
    }
   ],
   "source": [
    "l2 = l1.copy()\n",
    "l2"
   ]
  },
  {
   "cell_type": "code",
   "execution_count": 19,
   "id": "ca7a20b0-3255-4d07-9ffb-003301a1d797",
   "metadata": {},
   "outputs": [
    {
     "data": {
      "text/plain": [
       "True"
      ]
     },
     "execution_count": 19,
     "metadata": {},
     "output_type": "execute_result"
    }
   ],
   "source": [
    "l1 == l2"
   ]
  },
  {
   "cell_type": "code",
   "execution_count": 20,
   "id": "ab43ea92-a5da-4ca5-9b32-ec9490d9ec99",
   "metadata": {},
   "outputs": [
    {
     "data": {
      "text/plain": [
       "False"
      ]
     },
     "execution_count": 20,
     "metadata": {},
     "output_type": "execute_result"
    }
   ],
   "source": [
    "l == l2"
   ]
  },
  {
   "cell_type": "code",
   "execution_count": 21,
   "id": "ac1daf2c-3efe-4772-9842-29596675c49f",
   "metadata": {},
   "outputs": [
    {
     "name": "stdout",
     "output_type": "stream",
     "text": [
      "[10, 20, 30, 40, 50]\n",
      "[10, 3.5, 'twenty', True, (3+5j)]\n",
      "[10, 3.5, 'twenty', True, (3+5j)]\n"
     ]
    }
   ],
   "source": [
    "print(l)\n",
    "print(l1)\n",
    "print(l2)"
   ]
  },
  {
   "cell_type": "code",
   "execution_count": 22,
   "id": "cb38e7c5-16cd-4776-8389-d76d3b322b4a",
   "metadata": {},
   "outputs": [
    {
     "data": {
      "text/plain": [
       "True"
      ]
     },
     "execution_count": 22,
     "metadata": {},
     "output_type": "execute_result"
    }
   ],
   "source": [
    "l != l2"
   ]
  },
  {
   "cell_type": "code",
   "execution_count": 23,
   "id": "c24fba99-91f9-4a93-9973-a70b3843d38e",
   "metadata": {},
   "outputs": [
    {
     "data": {
      "text/plain": [
       "[10, 20, 30, 40, 50]"
      ]
     },
     "execution_count": 23,
     "metadata": {},
     "output_type": "execute_result"
    }
   ],
   "source": [
    "l"
   ]
  },
  {
   "cell_type": "code",
   "execution_count": 24,
   "id": "153835fa-663f-481e-9c14-79e13eb63028",
   "metadata": {},
   "outputs": [
    {
     "data": {
      "text/plain": [
       "[10, 20, 30, 40, 50]"
      ]
     },
     "execution_count": 24,
     "metadata": {},
     "output_type": "execute_result"
    }
   ],
   "source": [
    "l[:]"
   ]
  },
  {
   "cell_type": "code",
   "execution_count": 25,
   "id": "0f3d2116-ec4a-4939-ac07-f9daee818b39",
   "metadata": {},
   "outputs": [
    {
     "data": {
      "text/plain": [
       "10"
      ]
     },
     "execution_count": 25,
     "metadata": {},
     "output_type": "execute_result"
    }
   ],
   "source": [
    "l[0]"
   ]
  },
  {
   "cell_type": "code",
   "execution_count": 26,
   "id": "742f2c47-7ef8-476a-8da4-966efbc7bd01",
   "metadata": {},
   "outputs": [
    {
     "data": {
      "text/plain": [
       "50"
      ]
     },
     "execution_count": 26,
     "metadata": {},
     "output_type": "execute_result"
    }
   ],
   "source": [
    "l[-1]"
   ]
  },
  {
   "cell_type": "code",
   "execution_count": 27,
   "id": "ad965cd6-f5b2-4355-a178-981477053d1c",
   "metadata": {},
   "outputs": [
    {
     "data": {
      "text/plain": [
       "[10, 20, 30, 40, 50]"
      ]
     },
     "execution_count": 27,
     "metadata": {},
     "output_type": "execute_result"
    }
   ],
   "source": [
    "l"
   ]
  },
  {
   "cell_type": "code",
   "execution_count": 28,
   "id": "739504db-fb2a-49ae-86d2-8a4d13868025",
   "metadata": {},
   "outputs": [
    {
     "data": {
      "text/plain": [
       "50"
      ]
     },
     "execution_count": 28,
     "metadata": {},
     "output_type": "execute_result"
    }
   ],
   "source": [
    "l[4]"
   ]
  },
  {
   "cell_type": "code",
   "execution_count": 29,
   "id": "d1a19233-6d18-4463-8882-b26ef93642f4",
   "metadata": {},
   "outputs": [
    {
     "ename": "IndexError",
     "evalue": "list index out of range",
     "output_type": "error",
     "traceback": [
      "\u001b[1;31m---------------------------------------------------------------------------\u001b[0m",
      "\u001b[1;31mIndexError\u001b[0m                                Traceback (most recent call last)",
      "Cell \u001b[1;32mIn[29], line 1\u001b[0m\n\u001b[1;32m----> 1\u001b[0m l[\u001b[38;5;241m5\u001b[39m]\n",
      "\u001b[1;31mIndexError\u001b[0m: list index out of range"
     ]
    }
   ],
   "source": [
    "l[5]"
   ]
  },
  {
   "cell_type": "code",
   "execution_count": 30,
   "id": "be34091e-4d45-43d0-90ee-39d3bf61161b",
   "metadata": {},
   "outputs": [
    {
     "ename": "IndexError",
     "evalue": "list index out of range",
     "output_type": "error",
     "traceback": [
      "\u001b[1;31m---------------------------------------------------------------------------\u001b[0m",
      "\u001b[1;31mIndexError\u001b[0m                                Traceback (most recent call last)",
      "Cell \u001b[1;32mIn[30], line 1\u001b[0m\n\u001b[1;32m----> 1\u001b[0m l[\u001b[38;5;241m10\u001b[39m]\n",
      "\u001b[1;31mIndexError\u001b[0m: list index out of range"
     ]
    }
   ],
   "source": [
    "l[10]"
   ]
  },
  {
   "cell_type": "code",
   "execution_count": 31,
   "id": "b0b49920-9263-46ae-a10c-16158fb3a3ae",
   "metadata": {},
   "outputs": [
    {
     "data": {
      "text/plain": [
       "[10, 20, 30, 40, 50]"
      ]
     },
     "execution_count": 31,
     "metadata": {},
     "output_type": "execute_result"
    }
   ],
   "source": [
    "l"
   ]
  },
  {
   "cell_type": "code",
   "execution_count": 32,
   "id": "c70f3348-fedb-4902-a7e1-4b21a0236ad4",
   "metadata": {},
   "outputs": [
    {
     "data": {
      "text/plain": [
       "10"
      ]
     },
     "execution_count": 32,
     "metadata": {},
     "output_type": "execute_result"
    }
   ],
   "source": [
    "l[0]"
   ]
  },
  {
   "cell_type": "code",
   "execution_count": 33,
   "id": "ef08e763-71ab-4912-8ed1-970f8d1f510e",
   "metadata": {},
   "outputs": [],
   "source": [
    "l[0] = 100"
   ]
  },
  {
   "cell_type": "code",
   "execution_count": 34,
   "id": "bb3a5360-1b5c-4a30-8d8c-b083107a8d26",
   "metadata": {},
   "outputs": [
    {
     "data": {
      "text/plain": [
       "[100, 20, 30, 40, 50]"
      ]
     },
     "execution_count": 34,
     "metadata": {},
     "output_type": "execute_result"
    }
   ],
   "source": [
    "l"
   ]
  },
  {
   "cell_type": "code",
   "execution_count": 35,
   "id": "49bf7b61-a9f7-4ac5-a14c-bd0445dd69f9",
   "metadata": {},
   "outputs": [],
   "source": [
    "l[-1]='Feb'"
   ]
  },
  {
   "cell_type": "code",
   "execution_count": 36,
   "id": "c4ab3037-9caa-401d-9d85-3693c97c2805",
   "metadata": {},
   "outputs": [
    {
     "data": {
      "text/plain": [
       "[100, 20, 30, 40, 'Feb']"
      ]
     },
     "execution_count": 36,
     "metadata": {},
     "output_type": "execute_result"
    }
   ],
   "source": [
    "l"
   ]
  },
  {
   "cell_type": "code",
   "execution_count": 39,
   "id": "1af19de2-45f7-4959-9415-8853fe7019d9",
   "metadata": {},
   "outputs": [],
   "source": [
    "l.append('March')"
   ]
  },
  {
   "cell_type": "code",
   "execution_count": 40,
   "id": "d551a1fb-6eab-499e-a95d-b768ad41bd78",
   "metadata": {},
   "outputs": [
    {
     "data": {
      "text/plain": [
       "[100, 20, 30, 40, 'Feb', 'Feb', 'March']"
      ]
     },
     "execution_count": 40,
     "metadata": {},
     "output_type": "execute_result"
    }
   ],
   "source": [
    "l"
   ]
  },
  {
   "cell_type": "code",
   "execution_count": 41,
   "id": "e3b7a295-253f-4b5b-951f-474736529395",
   "metadata": {},
   "outputs": [
    {
     "data": {
      "text/plain": [
       "[100, 20, 30, 40, 'Feb', 'Feb', 'March', 40]"
      ]
     },
     "execution_count": 41,
     "metadata": {},
     "output_type": "execute_result"
    }
   ],
   "source": [
    "l.append(40)\n",
    "l"
   ]
  },
  {
   "cell_type": "code",
   "execution_count": 42,
   "id": "624bceb1-45d2-447c-9bfa-3e42de357c49",
   "metadata": {},
   "outputs": [
    {
     "data": {
      "text/plain": [
       "[100, 20, 30, 40, 'Feb', 'Feb', 'March', 40]"
      ]
     },
     "execution_count": 42,
     "metadata": {},
     "output_type": "execute_result"
    }
   ],
   "source": [
    "l"
   ]
  },
  {
   "cell_type": "code",
   "execution_count": 43,
   "id": "922bb0ee-1071-479c-bda6-f0a5b002c0e9",
   "metadata": {},
   "outputs": [
    {
     "data": {
      "text/plain": [
       "[10, 3.5, 'twenty', True, (3+5j)]"
      ]
     },
     "execution_count": 43,
     "metadata": {},
     "output_type": "execute_result"
    }
   ],
   "source": [
    "l2"
   ]
  },
  {
   "cell_type": "code",
   "execution_count": 44,
   "id": "0753caf5-1d59-4a12-b09d-aea9f11be887",
   "metadata": {},
   "outputs": [
    {
     "data": {
      "text/plain": [
       "5"
      ]
     },
     "execution_count": 44,
     "metadata": {},
     "output_type": "execute_result"
    }
   ],
   "source": [
    "len(l2)"
   ]
  },
  {
   "cell_type": "code",
   "execution_count": 45,
   "id": "4a34a53e-d200-4b4e-9c7a-23b7f0fc076e",
   "metadata": {},
   "outputs": [
    {
     "data": {
      "text/plain": [
       "[]"
      ]
     },
     "execution_count": 45,
     "metadata": {},
     "output_type": "execute_result"
    }
   ],
   "source": [
    "l2.clear()\n",
    "l2"
   ]
  },
  {
   "cell_type": "code",
   "execution_count": 46,
   "id": "d98bc158-9c5a-4b9e-a007-8df8daacbebf",
   "metadata": {},
   "outputs": [],
   "source": [
    "del l2"
   ]
  },
  {
   "cell_type": "code",
   "execution_count": 47,
   "id": "ae00b288-01ef-49b2-90bf-04caf1d729c0",
   "metadata": {},
   "outputs": [
    {
     "data": {
      "text/plain": [
       "[100, 20, 30, 40, 'Feb', 'Feb', 'March', 40]"
      ]
     },
     "execution_count": 47,
     "metadata": {},
     "output_type": "execute_result"
    }
   ],
   "source": [
    "l"
   ]
  },
  {
   "cell_type": "code",
   "execution_count": 48,
   "id": "be0d14d1-605f-4664-8f5d-5559159e1024",
   "metadata": {},
   "outputs": [
    {
     "data": {
      "text/plain": [
       "1"
      ]
     },
     "execution_count": 48,
     "metadata": {},
     "output_type": "execute_result"
    }
   ],
   "source": [
    "l.count(100)"
   ]
  },
  {
   "cell_type": "code",
   "execution_count": 49,
   "id": "d87de1ba-f781-478e-ac1c-14503ca93533",
   "metadata": {},
   "outputs": [
    {
     "data": {
      "text/plain": [
       "2"
      ]
     },
     "execution_count": 49,
     "metadata": {},
     "output_type": "execute_result"
    }
   ],
   "source": [
    "l.count(40)"
   ]
  },
  {
   "cell_type": "code",
   "execution_count": 50,
   "id": "e898d9c7-3057-4b3d-af89-b6d3590db157",
   "metadata": {},
   "outputs": [
    {
     "data": {
      "text/plain": [
       "[100, 20, 30, 40, 'Feb', 'Feb', 'March', 40]"
      ]
     },
     "execution_count": 50,
     "metadata": {},
     "output_type": "execute_result"
    }
   ],
   "source": [
    "l"
   ]
  },
  {
   "cell_type": "code",
   "execution_count": 51,
   "id": "312add4a-6aaf-4520-911e-758158b0e368",
   "metadata": {},
   "outputs": [
    {
     "data": {
      "text/plain": [
       "0"
      ]
     },
     "execution_count": 51,
     "metadata": {},
     "output_type": "execute_result"
    }
   ],
   "source": [
    "l.count(1000)"
   ]
  },
  {
   "cell_type": "code",
   "execution_count": 52,
   "id": "f1937ecf-3e7c-4a16-83cd-dc78b8065165",
   "metadata": {},
   "outputs": [
    {
     "name": "stdout",
     "output_type": "stream",
     "text": [
      "[100, 20, 30, 40, 'Feb', 'Feb', 'March', 40]\n",
      "[10, 3.5, 'twenty', True, (3+5j)]\n"
     ]
    }
   ],
   "source": [
    "print(l)\n",
    "print(l1)"
   ]
  },
  {
   "cell_type": "code",
   "execution_count": 53,
   "id": "c74abb4c-a057-47b1-bb6d-80f6892bddc2",
   "metadata": {},
   "outputs": [
    {
     "name": "stdout",
     "output_type": "stream",
     "text": [
      "8\n",
      "5\n"
     ]
    }
   ],
   "source": [
    "print(len(l))\n",
    "print(len(l1))"
   ]
  },
  {
   "cell_type": "markdown",
   "id": "d7759eab-aa28-4dfe-b4a5-5c4461f7a0f9",
   "metadata": {},
   "source": [
    "List Membership"
   ]
  },
  {
   "cell_type": "code",
   "execution_count": 54,
   "id": "bfc62faf-d83e-4b78-8856-6cd24aac7d43",
   "metadata": {},
   "outputs": [
    {
     "data": {
      "text/plain": [
       "[100, 20, 30, 40, 'Feb', 'Feb', 'March', 40]"
      ]
     },
     "execution_count": 54,
     "metadata": {},
     "output_type": "execute_result"
    }
   ],
   "source": [
    "l"
   ]
  },
  {
   "cell_type": "code",
   "execution_count": 55,
   "id": "5939031c-944d-4f42-b39e-422c6bbe59db",
   "metadata": {},
   "outputs": [
    {
     "data": {
      "text/plain": [
       "True"
      ]
     },
     "execution_count": 55,
     "metadata": {},
     "output_type": "execute_result"
    }
   ],
   "source": [
    "100 in l"
   ]
  },
  {
   "cell_type": "code",
   "execution_count": 56,
   "id": "69f598f6-5301-4735-bde6-c36db08c8a13",
   "metadata": {},
   "outputs": [
    {
     "data": {
      "text/plain": [
       "False"
      ]
     },
     "execution_count": 56,
     "metadata": {},
     "output_type": "execute_result"
    }
   ],
   "source": [
    "1000 in l"
   ]
  },
  {
   "cell_type": "code",
   "execution_count": 57,
   "id": "064ff990-9e7e-4ebe-a824-9313a77da46d",
   "metadata": {},
   "outputs": [
    {
     "data": {
      "text/plain": [
       "[100, 20, 30, 40, 'Feb', 'Feb', 'March', 40]"
      ]
     },
     "execution_count": 57,
     "metadata": {},
     "output_type": "execute_result"
    }
   ],
   "source": [
    "l"
   ]
  },
  {
   "cell_type": "code",
   "execution_count": 58,
   "id": "b04730d9-fef1-46ad-bc6e-2e222b157198",
   "metadata": {},
   "outputs": [
    {
     "data": {
      "text/plain": [
       "[10, 3.5, 'twenty', True, (3+5j)]"
      ]
     },
     "execution_count": 58,
     "metadata": {},
     "output_type": "execute_result"
    }
   ],
   "source": [
    "l1"
   ]
  },
  {
   "cell_type": "code",
   "execution_count": 59,
   "id": "48963291-2095-4aa6-93dd-1372d9ddd3bb",
   "metadata": {},
   "outputs": [],
   "source": [
    "l2 = []"
   ]
  },
  {
   "cell_type": "code",
   "execution_count": 60,
   "id": "daee1d6b-9784-4bde-881a-0b8e0fc70ddd",
   "metadata": {},
   "outputs": [
    {
     "data": {
      "text/plain": [
       "[]"
      ]
     },
     "execution_count": 60,
     "metadata": {},
     "output_type": "execute_result"
    }
   ],
   "source": [
    "l2"
   ]
  },
  {
   "cell_type": "code",
   "execution_count": 61,
   "id": "da4d5a99-50d5-450e-96f9-699a37d5158a",
   "metadata": {},
   "outputs": [
    {
     "name": "stdout",
     "output_type": "stream",
     "text": [
      "8\n",
      "5\n",
      "0\n"
     ]
    }
   ],
   "source": [
    "print(len(l))\n",
    "print(len(l1))\n",
    "print(len(l2))\n"
   ]
  },
  {
   "cell_type": "code",
   "execution_count": 62,
   "id": "15d23275-4990-47cb-a3c4-f0418b20926f",
   "metadata": {},
   "outputs": [
    {
     "data": {
      "text/plain": [
       "[100, 20, 30, 40, 'Feb', 'Feb', 'March', 40]"
      ]
     },
     "execution_count": 62,
     "metadata": {},
     "output_type": "execute_result"
    }
   ],
   "source": [
    "l"
   ]
  },
  {
   "cell_type": "code",
   "execution_count": 63,
   "id": "96120c5e-cc67-4161-a545-66d859778aa5",
   "metadata": {},
   "outputs": [
    {
     "data": {
      "text/plain": [
       "[10, 3.5, 'twenty', True, (3+5j)]"
      ]
     },
     "execution_count": 63,
     "metadata": {},
     "output_type": "execute_result"
    }
   ],
   "source": [
    "l1"
   ]
  },
  {
   "cell_type": "code",
   "execution_count": 64,
   "id": "c0cd46c9-6661-45e5-8c73-de4f000de2ca",
   "metadata": {},
   "outputs": [
    {
     "data": {
      "text/plain": [
       "[]"
      ]
     },
     "execution_count": 64,
     "metadata": {},
     "output_type": "execute_result"
    }
   ],
   "source": [
    "l2"
   ]
  },
  {
   "cell_type": "code",
   "execution_count": 65,
   "id": "59139c2b-fa21-4676-acfb-5501f3c318bb",
   "metadata": {},
   "outputs": [],
   "source": [
    "l2.extend(l)"
   ]
  },
  {
   "cell_type": "code",
   "execution_count": 66,
   "id": "18e27e0e-8a3c-4e9e-a6b7-5752bc5dfde1",
   "metadata": {},
   "outputs": [
    {
     "data": {
      "text/plain": [
       "[100, 20, 30, 40, 'Feb', 'Feb', 'March', 40]"
      ]
     },
     "execution_count": 66,
     "metadata": {},
     "output_type": "execute_result"
    }
   ],
   "source": [
    "l2"
   ]
  },
  {
   "cell_type": "code",
   "execution_count": 67,
   "id": "2588867e-ebb4-461f-9264-a1f7b15e6241",
   "metadata": {},
   "outputs": [
    {
     "data": {
      "text/plain": [
       "[100, 20, 30, 40, 'Feb', 'Feb', 'March', 40, 10, 3.5, 'twenty', True, (3+5j)]"
      ]
     },
     "execution_count": 67,
     "metadata": {},
     "output_type": "execute_result"
    }
   ],
   "source": [
    "l2.extend(l1)\n",
    "l2"
   ]
  },
  {
   "cell_type": "code",
   "execution_count": 68,
   "id": "0b4f438a-3654-483c-8a4c-ea8df6fe51c8",
   "metadata": {},
   "outputs": [
    {
     "data": {
      "text/plain": [
       "[10, 3.5, 'twenty', True, (3+5j)]"
      ]
     },
     "execution_count": 68,
     "metadata": {},
     "output_type": "execute_result"
    }
   ],
   "source": [
    "l1"
   ]
  },
  {
   "cell_type": "code",
   "execution_count": 69,
   "id": "c545105b-155d-4de7-bc7d-67befd0561f8",
   "metadata": {},
   "outputs": [],
   "source": [
    "l1.extend(l2)"
   ]
  },
  {
   "cell_type": "code",
   "execution_count": 70,
   "id": "cb703e8a-c7d5-45d7-9173-2f0e184add64",
   "metadata": {},
   "outputs": [
    {
     "data": {
      "text/plain": [
       "[10,\n",
       " 3.5,\n",
       " 'twenty',\n",
       " True,\n",
       " (3+5j),\n",
       " 100,\n",
       " 20,\n",
       " 30,\n",
       " 40,\n",
       " 'Feb',\n",
       " 'Feb',\n",
       " 'March',\n",
       " 40,\n",
       " 10,\n",
       " 3.5,\n",
       " 'twenty',\n",
       " True,\n",
       " (3+5j)]"
      ]
     },
     "execution_count": 70,
     "metadata": {},
     "output_type": "execute_result"
    }
   ],
   "source": [
    "l1"
   ]
  },
  {
   "cell_type": "code",
   "execution_count": 71,
   "id": "c1ba0c88-1994-4bb9-93fa-bf2a72cc8bc7",
   "metadata": {},
   "outputs": [
    {
     "data": {
      "text/plain": [
       "18"
      ]
     },
     "execution_count": 71,
     "metadata": {},
     "output_type": "execute_result"
    }
   ],
   "source": [
    "len(l1)"
   ]
  },
  {
   "cell_type": "code",
   "execution_count": 72,
   "id": "384be939-0341-4eae-8e4a-da8907910159",
   "metadata": {},
   "outputs": [
    {
     "data": {
      "text/plain": [
       "[100, 20, 30, 40, 'Feb', 'Feb', 'March', 40]"
      ]
     },
     "execution_count": 72,
     "metadata": {},
     "output_type": "execute_result"
    }
   ],
   "source": [
    "l"
   ]
  },
  {
   "cell_type": "code",
   "execution_count": 73,
   "id": "adf688da-6692-4b1a-8fcd-67e63fbf1038",
   "metadata": {},
   "outputs": [
    {
     "data": {
      "text/plain": [
       "6"
      ]
     },
     "execution_count": 73,
     "metadata": {},
     "output_type": "execute_result"
    }
   ],
   "source": [
    "l.index('March')"
   ]
  },
  {
   "cell_type": "code",
   "execution_count": 74,
   "id": "97901a1c-7d6d-4f8b-b4e1-c8749b7ecf6e",
   "metadata": {},
   "outputs": [
    {
     "data": {
      "text/plain": [
       "[100, 20, 30, 40, 'Feb', 'Feb', 'March', 40]"
      ]
     },
     "execution_count": 74,
     "metadata": {},
     "output_type": "execute_result"
    }
   ],
   "source": [
    "l"
   ]
  },
  {
   "cell_type": "code",
   "execution_count": 75,
   "id": "93e05099-c853-4b71-bb20-a9f3c642531e",
   "metadata": {},
   "outputs": [
    {
     "data": {
      "text/plain": [
       "[100, 20, 30, 40, 'Feb', 'Feb', 'March', 40]"
      ]
     },
     "execution_count": 75,
     "metadata": {},
     "output_type": "execute_result"
    }
   ],
   "source": [
    "l[:]"
   ]
  },
  {
   "cell_type": "code",
   "execution_count": 76,
   "id": "8ec2c539-f25d-438c-8cde-4c53daeb53d3",
   "metadata": {},
   "outputs": [
    {
     "data": {
      "text/plain": [
       "[100, 20, 30, 40, 'Feb', 'Feb', 'March', 40, 10, 3.5, 'twenty', True, (3+5j)]"
      ]
     },
     "execution_count": 76,
     "metadata": {},
     "output_type": "execute_result"
    }
   ],
   "source": [
    "l2"
   ]
  },
  {
   "cell_type": "code",
   "execution_count": 77,
   "id": "5ec6ea01-3c97-4d87-977f-9a55ecf07cfc",
   "metadata": {},
   "outputs": [
    {
     "data": {
      "text/plain": [
       "[100, 20, 30, 40, 'Feb', 'Feb', 'March', 40, 10, 3.5, 'twenty', True, (3+5j)]"
      ]
     },
     "execution_count": 77,
     "metadata": {},
     "output_type": "execute_result"
    }
   ],
   "source": [
    "l2[:]"
   ]
  },
  {
   "cell_type": "code",
   "execution_count": 78,
   "id": "c6ed527e-15fe-4334-90b3-77c4f5ff6199",
   "metadata": {},
   "outputs": [
    {
     "data": {
      "text/plain": [
       "[100, 20, 30, 40, 'Feb', 'Feb']"
      ]
     },
     "execution_count": 78,
     "metadata": {},
     "output_type": "execute_result"
    }
   ],
   "source": [
    "l2[0:6]"
   ]
  },
  {
   "cell_type": "code",
   "execution_count": 79,
   "id": "7085ff38-c5b0-4b7b-9293-8e83e228436f",
   "metadata": {},
   "outputs": [
    {
     "data": {
      "text/plain": [
       "[100, 20, 30, 40, 'Feb', 'Feb', 'March', 40, 10, 3.5, 'twenty', True, (3+5j)]"
      ]
     },
     "execution_count": 79,
     "metadata": {},
     "output_type": "execute_result"
    }
   ],
   "source": [
    "l2"
   ]
  },
  {
   "cell_type": "code",
   "execution_count": 80,
   "id": "1965898a-72e1-4047-9725-e6d372b200f5",
   "metadata": {},
   "outputs": [
    {
     "data": {
      "text/plain": [
       "[40, 'Feb', 'Feb', 'March', 40, 10, 3.5]"
      ]
     },
     "execution_count": 80,
     "metadata": {},
     "output_type": "execute_result"
    }
   ],
   "source": [
    "l2[3:10]"
   ]
  },
  {
   "cell_type": "code",
   "execution_count": 81,
   "id": "03727408-9ff8-4e78-87be-53b65e1a7f8c",
   "metadata": {},
   "outputs": [
    {
     "data": {
      "text/plain": [
       "[100, 20, 30, 40, 'Feb', 'Feb', 'March', 40, 10, 3.5, 'twenty', True, (3+5j)]"
      ]
     },
     "execution_count": 81,
     "metadata": {},
     "output_type": "execute_result"
    }
   ],
   "source": [
    "l2"
   ]
  },
  {
   "cell_type": "code",
   "execution_count": 82,
   "id": "1d91b725-c99a-4df9-acaf-5a476c8d12e9",
   "metadata": {},
   "outputs": [
    {
     "data": {
      "text/plain": [
       "[100, 30, 'Feb', 'March', 10, 'twenty', (3+5j)]"
      ]
     },
     "execution_count": 82,
     "metadata": {},
     "output_type": "execute_result"
    }
   ],
   "source": [
    "l2[::2]"
   ]
  },
  {
   "cell_type": "code",
   "execution_count": 83,
   "id": "7b57117a-22a9-46ec-9914-d525a2d4dc41",
   "metadata": {},
   "outputs": [
    {
     "data": {
      "text/plain": [
       "[100, 40, 'March', 3.5, (3+5j)]"
      ]
     },
     "execution_count": 83,
     "metadata": {},
     "output_type": "execute_result"
    }
   ],
   "source": [
    "l2[::3]"
   ]
  },
  {
   "cell_type": "code",
   "execution_count": 84,
   "id": "76321067-fca7-4a60-90f6-e769022a5ccf",
   "metadata": {},
   "outputs": [
    {
     "data": {
      "text/plain": [
       "[30, 40, 'Feb', 'Feb', 'March', 40, 10, 3.5, 'twenty', True, (3+5j)]"
      ]
     },
     "execution_count": 84,
     "metadata": {},
     "output_type": "execute_result"
    }
   ],
   "source": [
    "l2[2::]"
   ]
  },
  {
   "cell_type": "code",
   "execution_count": 85,
   "id": "0ce8fada-c61f-4a9b-a24f-16d40c49722c",
   "metadata": {},
   "outputs": [
    {
     "data": {
      "text/plain": [
       "[100, 'Feb', 'twenty']"
      ]
     },
     "execution_count": 85,
     "metadata": {},
     "output_type": "execute_result"
    }
   ],
   "source": [
    "l2[::5]"
   ]
  },
  {
   "cell_type": "code",
   "execution_count": 86,
   "id": "b4f0b5d9-cbdd-4972-9b86-9938a589cfb6",
   "metadata": {},
   "outputs": [
    {
     "data": {
      "text/plain": [
       "[100, 20, 30, 40, 'Feb', 'Feb', 'March', 40, 10, 3.5, 'twenty', True, (3+5j)]"
      ]
     },
     "execution_count": 86,
     "metadata": {},
     "output_type": "execute_result"
    }
   ],
   "source": [
    "l2"
   ]
  },
  {
   "cell_type": "markdown",
   "id": "a079b48b-6c1f-4227-ae31-fc9471c74c49",
   "metadata": {},
   "source": [
    "Backward Indexing & Backward Slicing"
   ]
  },
  {
   "cell_type": "markdown",
   "id": "bc147f3d-de8d-42a7-b582-82917e14a622",
   "metadata": {},
   "source": [
    "## "
   ]
  },
  {
   "cell_type": "code",
   "execution_count": 87,
   "id": "1539ac02-506b-40c8-b334-f47f484319bb",
   "metadata": {},
   "outputs": [
    {
     "data": {
      "text/plain": [
       "[100, 20, 30, 40, 'Feb', 'Feb', 'March', 40, 10, 3.5, 'twenty', True, (3+5j)]"
      ]
     },
     "execution_count": 87,
     "metadata": {},
     "output_type": "execute_result"
    }
   ],
   "source": [
    "l2"
   ]
  },
  {
   "cell_type": "code",
   "execution_count": 88,
   "id": "727271b7-826b-4b1d-92a2-c25d77ada584",
   "metadata": {},
   "outputs": [
    {
     "data": {
      "text/plain": [
       "[100, 20, 30, 40, 'Feb', 'Feb', 'March', 40, 10, 3.5, 'twenty', True, (3+5j)]"
      ]
     },
     "execution_count": 88,
     "metadata": {},
     "output_type": "execute_result"
    }
   ],
   "source": [
    "l2[:]"
   ]
  },
  {
   "cell_type": "code",
   "execution_count": 89,
   "id": "f30c59e3-be94-41f2-9fa6-fa4af4c0ffff",
   "metadata": {},
   "outputs": [
    {
     "data": {
      "text/plain": [
       "10"
      ]
     },
     "execution_count": 89,
     "metadata": {},
     "output_type": "execute_result"
    }
   ],
   "source": [
    "l2[-5]"
   ]
  },
  {
   "cell_type": "code",
   "execution_count": 90,
   "id": "efa0b6cf-40c7-40a8-be85-4c03b4b3a847",
   "metadata": {},
   "outputs": [
    {
     "data": {
      "text/plain": [
       "'Feb'"
      ]
     },
     "execution_count": 90,
     "metadata": {},
     "output_type": "execute_result"
    }
   ],
   "source": [
    "l2[-8]"
   ]
  },
  {
   "cell_type": "code",
   "execution_count": 91,
   "id": "166d57e5-8436-4af5-a2f7-aa0fc1e90181",
   "metadata": {},
   "outputs": [
    {
     "data": {
      "text/plain": [
       "[100, 20, 30, 40]"
      ]
     },
     "execution_count": 91,
     "metadata": {},
     "output_type": "execute_result"
    }
   ],
   "source": [
    "l2[:-9]"
   ]
  },
  {
   "cell_type": "code",
   "execution_count": 92,
   "id": "1d6a5738-f4a5-4610-af4f-0b7764167e4c",
   "metadata": {},
   "outputs": [
    {
     "data": {
      "text/plain": [
       "[100, 20, 30, 40, 'Feb', 'Feb', 'March', 40, 10]"
      ]
     },
     "execution_count": 92,
     "metadata": {},
     "output_type": "execute_result"
    }
   ],
   "source": [
    "l2[:-4]"
   ]
  },
  {
   "cell_type": "code",
   "execution_count": 93,
   "id": "32b91e04-3fa5-4594-bbe5-1c04c5333e81",
   "metadata": {},
   "outputs": [
    {
     "data": {
      "text/plain": [
       "['twenty', True, (3+5j)]"
      ]
     },
     "execution_count": 93,
     "metadata": {},
     "output_type": "execute_result"
    }
   ],
   "source": [
    "l2[-3:]"
   ]
  },
  {
   "cell_type": "code",
   "execution_count": 94,
   "id": "463a9729-8911-4af2-9f02-b14a3fbae6b5",
   "metadata": {},
   "outputs": [
    {
     "data": {
      "text/plain": [
       "[40, 'Feb', 'Feb', 'March', 40, 10, 3.5]"
      ]
     },
     "execution_count": 94,
     "metadata": {},
     "output_type": "execute_result"
    }
   ],
   "source": [
    "l2[3:-3]"
   ]
  },
  {
   "cell_type": "code",
   "execution_count": 95,
   "id": "f6fae1f9-3dc7-43b6-8a33-8ddaa8d27af3",
   "metadata": {},
   "outputs": [
    {
     "data": {
      "text/plain": [
       "[(3+5j), True, 'twenty', 3.5, 10, 40, 'March', 'Feb', 'Feb', 40, 30, 20, 100]"
      ]
     },
     "execution_count": 95,
     "metadata": {},
     "output_type": "execute_result"
    }
   ],
   "source": [
    "l2[::-1]"
   ]
  },
  {
   "cell_type": "code",
   "execution_count": 96,
   "id": "43b25e1e-0254-439d-ba91-9170f0ecf0c7",
   "metadata": {},
   "outputs": [
    {
     "name": "stdout",
     "output_type": "stream",
     "text": [
      "[100, 20, 30, 40, 'Feb', 'Feb', 'March', 40]\n",
      "[10, 3.5, 'twenty', True, (3+5j), 100, 20, 30, 40, 'Feb', 'Feb', 'March', 40, 10, 3.5, 'twenty', True, (3+5j)]\n",
      "[100, 20, 30, 40, 'Feb', 'Feb', 'March', 40, 10, 3.5, 'twenty', True, (3+5j)]\n"
     ]
    }
   ],
   "source": [
    "print(l)\n",
    "print(l1)\n",
    "print(l2)"
   ]
  },
  {
   "cell_type": "code",
   "execution_count": 97,
   "id": "fe68ccbb-2606-43a1-b621-ff0e045197b4",
   "metadata": {},
   "outputs": [],
   "source": [
    "l1.remove(3+5j)"
   ]
  },
  {
   "cell_type": "code",
   "execution_count": 98,
   "id": "0f478228-d67a-4ae7-8917-a987e3bf3f1b",
   "metadata": {},
   "outputs": [
    {
     "data": {
      "text/plain": [
       "[10,\n",
       " 3.5,\n",
       " 'twenty',\n",
       " True,\n",
       " 100,\n",
       " 20,\n",
       " 30,\n",
       " 40,\n",
       " 'Feb',\n",
       " 'Feb',\n",
       " 'March',\n",
       " 40,\n",
       " 10,\n",
       " 3.5,\n",
       " 'twenty',\n",
       " True,\n",
       " (3+5j)]"
      ]
     },
     "execution_count": 98,
     "metadata": {},
     "output_type": "execute_result"
    }
   ],
   "source": [
    "l1"
   ]
  },
  {
   "cell_type": "code",
   "execution_count": null,
   "id": "a8166733-3bd2-42c4-b41d-646101cd31e9",
   "metadata": {},
   "outputs": [],
   "source": []
  }
 ],
 "metadata": {
  "kernelspec": {
   "display_name": "Python 3 (ipykernel)",
   "language": "python",
   "name": "python3"
  },
  "language_info": {
   "codemirror_mode": {
    "name": "ipython",
    "version": 3
   },
   "file_extension": ".py",
   "mimetype": "text/x-python",
   "name": "python",
   "nbconvert_exporter": "python",
   "pygments_lexer": "ipython3",
   "version": "3.13.5"
  }
 },
 "nbformat": 4,
 "nbformat_minor": 5
}

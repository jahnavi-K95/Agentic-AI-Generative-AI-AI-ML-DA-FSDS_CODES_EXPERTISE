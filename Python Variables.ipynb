{
 "cells": [
  {
   "cell_type": "markdown",
   "id": "bf6bb013-5fd0-437b-b6aa-7bc8dbf3f4be",
   "metadata": {},
   "source": [
    "Python"
   ]
  },
  {
   "cell_type": "raw",
   "id": "ca83b676-3443-471e-8aef-9e9002255ac8",
   "metadata": {},
   "source": [
    "# Python\n",
    "> python is a object-oriented language\n",
    "> Father of python- Guido Van Rosam"
   ]
  },
  {
   "cell_type": "code",
   "execution_count": null,
   "id": "d51b16e2-7d30-4dbd-b410-fc0d6460a5b1",
   "metadata": {},
   "outputs": [],
   "source": [
    " Python variables\n",
    "> Used to store Data Values\n",
    "> Python Variable = identifier = object \n",
    "> Syntax: ( Variable = Value)"
   ]
  },
  {
   "cell_type": "raw",
   "id": "34ec5168-630d-477c-b406-e80c7cd6403a",
   "metadata": {},
   "source": [
    "# Rules to declare python Variables\n",
    "1. Variables are Case Sensitive\n",
    "2. Variables doesn't start with a Digit but can end with a digit\n",
    "3. Special Symbols are not allowed (Except _)\n"
   ]
  },
  {
   "cell_type": "code",
   "execution_count": 1,
   "id": "da95a286-eb5b-4376-b405-be343bcffe43",
   "metadata": {},
   "outputs": [],
   "source": [
    "a = 10"
   ]
  },
  {
   "cell_type": "code",
   "execution_count": 2,
   "id": "bc6dbfd5-0206-4e3e-a525-f14a247ea294",
   "metadata": {},
   "outputs": [
    {
     "data": {
      "text/plain": [
       "int"
      ]
     },
     "execution_count": 2,
     "metadata": {},
     "output_type": "execute_result"
    }
   ],
   "source": [
    "type(a)"
   ]
  },
  {
   "cell_type": "code",
   "execution_count": 39,
   "id": "90a6b05b-1ace-47b7-838b-6a359da05503",
   "metadata": {},
   "outputs": [
    {
     "ename": "_IncompleteInputError",
     "evalue": "incomplete input (1475172723.py, line 1)",
     "output_type": "error",
     "traceback": [
      "\u001b[1;36m  Cell \u001b[1;32mIn[39], line 1\u001b[1;36m\u001b[0m\n\u001b[1;33m    @janu\u001b[0m\n\u001b[1;37m         ^\u001b[0m\n\u001b[1;31m_IncompleteInputError\u001b[0m\u001b[1;31m:\u001b[0m incomplete input\n"
     ]
    }
   ],
   "source": [
    "@janu"
   ]
  },
  {
   "cell_type": "code",
   "execution_count": 42,
   "id": "32efcccc-094c-4310-b66a-c8bb6b6ab8b1",
   "metadata": {},
   "outputs": [
    {
     "name": "stdout",
     "output_type": "stream",
     "text": [
      "23\n"
     ]
    }
   ],
   "source": [
    "_janu=23\n",
    "print(_janu)"
   ]
  },
  {
   "cell_type": "code",
   "execution_count": 3,
   "id": "32b941d1-3eb7-4425-a671-9ec77dbc7b76",
   "metadata": {},
   "outputs": [
    {
     "data": {
      "text/plain": [
       "int"
      ]
     },
     "execution_count": 3,
     "metadata": {},
     "output_type": "execute_result"
    }
   ],
   "source": [
    "Name = 12\n",
    "type(Name)"
   ]
  },
  {
   "cell_type": "code",
   "execution_count": 44,
   "id": "9dc44d65-977f-4e6f-88fc-5e778841795f",
   "metadata": {},
   "outputs": [
    {
     "name": "stdout",
     "output_type": "stream",
     "text": [
      "14\n"
     ]
    }
   ],
   "source": [
    "janu_=14\n",
    "print(janu_)"
   ]
  },
  {
   "cell_type": "code",
   "execution_count": 45,
   "id": "f044fd87-258f-47c7-9488-b026b543103c",
   "metadata": {},
   "outputs": [
    {
     "ename": "SyntaxError",
     "evalue": "invalid syntax (3440065873.py, line 1)",
     "output_type": "error",
     "traceback": [
      "\u001b[1;36m  Cell \u001b[1;32mIn[45], line 1\u001b[1;36m\u001b[0m\n\u001b[1;33m    hello$=12\u001b[0m\n\u001b[1;37m         ^\u001b[0m\n\u001b[1;31mSyntaxError\u001b[0m\u001b[1;31m:\u001b[0m invalid syntax\n"
     ]
    }
   ],
   "source": [
    "hello$=12"
   ]
  },
  {
   "cell_type": "raw",
   "id": "afe00fd9-6c5d-47ae-ae57-33eb65dd6bd7",
   "metadata": {},
   "source": [
    "#FLoat- Decimal Value"
   ]
  },
  {
   "cell_type": "code",
   "execution_count": 4,
   "id": "5d6340ab-32a1-4f60-a5d0-771672efe213",
   "metadata": {},
   "outputs": [
    {
     "data": {
      "text/plain": [
       "float"
      ]
     },
     "execution_count": 4,
     "metadata": {},
     "output_type": "execute_result"
    }
   ],
   "source": [
    "a = 5.6\n",
    "type(a)"
   ]
  },
  {
   "cell_type": "code",
   "execution_count": 5,
   "id": "b608ff6a-a5e2-4915-9a9a-5b5de6c5fc6a",
   "metadata": {},
   "outputs": [
    {
     "data": {
      "text/plain": [
       "float"
      ]
     },
     "execution_count": 5,
     "metadata": {},
     "output_type": "execute_result"
    }
   ],
   "source": [
    "b=13.98\n",
    "type(b)"
   ]
  },
  {
   "cell_type": "raw",
   "id": "9d1bbff0-e17b-4a35-a14a-525177477dea",
   "metadata": {},
   "source": [
    "# String - Sequence of Characters which are used to store and manipulate the text\n",
    "' ' --> Single Quote, \"\"--> Double Quote ,''' ''' "
   ]
  },
  {
   "cell_type": "code",
   "execution_count": 6,
   "id": "29c1eb26-8182-4cf9-a5fe-57f5be19a33a",
   "metadata": {},
   "outputs": [],
   "source": [
    "B = 'Hello'"
   ]
  },
  {
   "cell_type": "code",
   "execution_count": 7,
   "id": "f845c323-7899-48fc-aa9a-2c70ba028063",
   "metadata": {},
   "outputs": [
    {
     "data": {
      "text/plain": [
       "str"
      ]
     },
     "execution_count": 7,
     "metadata": {},
     "output_type": "execute_result"
    }
   ],
   "source": [
    "type(B)"
   ]
  },
  {
   "cell_type": "code",
   "execution_count": 8,
   "id": "6083c9c2-caca-496b-a4b8-4ec4ac1a81c4",
   "metadata": {},
   "outputs": [],
   "source": [
    "k = 'Hyderabad'"
   ]
  },
  {
   "cell_type": "code",
   "execution_count": 9,
   "id": "ea18e42f-ba07-4702-ba95-b1353245d3a1",
   "metadata": {},
   "outputs": [
    {
     "data": {
      "text/plain": [
       "str"
      ]
     },
     "execution_count": 9,
     "metadata": {},
     "output_type": "execute_result"
    }
   ],
   "source": [
    "type(k)"
   ]
  },
  {
   "cell_type": "code",
   "execution_count": 10,
   "id": "b0acceda-2471-4b43-88a5-f7e82b6baa5f",
   "metadata": {},
   "outputs": [
    {
     "name": "stdout",
     "output_type": "stream",
     "text": [
      "HelloHyderabad\n"
     ]
    }
   ],
   "source": [
    "print( B+k)"
   ]
  },
  {
   "cell_type": "code",
   "execution_count": 11,
   "id": "9a4ac21e-af6e-4840-acce-9ec283a1210d",
   "metadata": {},
   "outputs": [
    {
     "ename": "NameError",
     "evalue": "name 'Bk' is not defined",
     "output_type": "error",
     "traceback": [
      "\u001b[1;31m---------------------------------------------------------------------------\u001b[0m",
      "\u001b[1;31mNameError\u001b[0m                                 Traceback (most recent call last)",
      "Cell \u001b[1;32mIn[11], line 1\u001b[0m\n\u001b[1;32m----> 1\u001b[0m \u001b[38;5;28mprint\u001b[39m(Bk)\n",
      "\u001b[1;31mNameError\u001b[0m: name 'Bk' is not defined"
     ]
    }
   ],
   "source": [
    "print(Bk)"
   ]
  },
  {
   "cell_type": "code",
   "execution_count": 12,
   "id": "ab6ea593-a6ba-4f9e-9bf9-1e4b17baf377",
   "metadata": {},
   "outputs": [
    {
     "data": {
      "text/plain": [
       "'HelloHyderabad'"
      ]
     },
     "execution_count": 12,
     "metadata": {},
     "output_type": "execute_result"
    }
   ],
   "source": [
    "name=\"Hello\"\n",
    "name1=\"Hyderabad\"\n",
    "name+name1"
   ]
  },
  {
   "cell_type": "code",
   "execution_count": 13,
   "id": "d4e05db3-332b-4bd9-99a7-080cdeb90648",
   "metadata": {},
   "outputs": [
    {
     "ename": "NameError",
     "evalue": "name 'name2' is not defined",
     "output_type": "error",
     "traceback": [
      "\u001b[1;31m---------------------------------------------------------------------------\u001b[0m",
      "\u001b[1;31mNameError\u001b[0m                                 Traceback (most recent call last)",
      "Cell \u001b[1;32mIn[13], line 1\u001b[0m\n\u001b[1;32m----> 1\u001b[0m name\u001b[38;5;241m+\u001b[39m\u001b[38;5;124m\"\u001b[39m\u001b[38;5;124m \u001b[39m\u001b[38;5;124m\"\u001b[39m\u001b[38;5;241m+\u001b[39mname2\n",
      "\u001b[1;31mNameError\u001b[0m: name 'name2' is not defined"
     ]
    }
   ],
   "source": [
    "name+\" \"+name2"
   ]
  },
  {
   "cell_type": "code",
   "execution_count": 14,
   "id": "f9a08590-1500-46af-8708-7b52855713fd",
   "metadata": {},
   "outputs": [
    {
     "data": {
      "text/plain": [
       "'Hello Hyderabad'"
      ]
     },
     "execution_count": 14,
     "metadata": {},
     "output_type": "execute_result"
    }
   ],
   "source": [
    "name+\" \"+name1"
   ]
  },
  {
   "cell_type": "code",
   "execution_count": 15,
   "id": "2d8d0df7-965d-4f3a-9f3d-a1e6b5b44abf",
   "metadata": {},
   "outputs": [
    {
     "data": {
      "text/plain": [
       "'HelloHyderabad'"
      ]
     },
     "execution_count": 15,
     "metadata": {},
     "output_type": "execute_result"
    }
   ],
   "source": [
    "name1='''Hello'''\n",
    "name2='''Hyderabad'''\n",
    "name1+name2"
   ]
  },
  {
   "cell_type": "code",
   "execution_count": 16,
   "id": "2190532c-c977-4955-9241-625fb80d62b3",
   "metadata": {},
   "outputs": [
    {
     "data": {
      "text/plain": [
       "'Hello Hyderabad'"
      ]
     },
     "execution_count": 16,
     "metadata": {},
     "output_type": "execute_result"
    }
   ],
   "source": [
    "name1+' '+name2"
   ]
  },
  {
   "cell_type": "code",
   "execution_count": 17,
   "id": "33292453-2fb0-487a-85d2-3183bab6b6cd",
   "metadata": {},
   "outputs": [
    {
     "ename": "SyntaxError",
     "evalue": "invalid decimal literal (2876857886.py, line 1)",
     "output_type": "error",
     "traceback": [
      "\u001b[1;36m  Cell \u001b[1;32mIn[17], line 1\u001b[1;36m\u001b[0m\n\u001b[1;33m    5name=t\u001b[0m\n\u001b[1;37m    ^\u001b[0m\n\u001b[1;31mSyntaxError\u001b[0m\u001b[1;31m:\u001b[0m invalid decimal literal\n"
     ]
    }
   ],
   "source": [
    "5name=t"
   ]
  },
  {
   "cell_type": "raw",
   "id": "38bd644f-d7f4-4bbc-8197-e39377dbd81e",
   "metadata": {},
   "source": [
    "# String shouldn't start with a Digit"
   ]
  },
  {
   "cell_type": "markdown",
   "id": "7fc76518-5669-439c-8b09-99edff6ddc3c",
   "metadata": {},
   "source": [
    "#Boolean (True =1 , False=0)"
   ]
  },
  {
   "cell_type": "code",
   "execution_count": 18,
   "id": "fd0f28af-adfc-424c-b505-067bc4a1c287",
   "metadata": {},
   "outputs": [
    {
     "data": {
      "text/plain": [
       "True"
      ]
     },
     "execution_count": 18,
     "metadata": {},
     "output_type": "execute_result"
    }
   ],
   "source": [
    "True"
   ]
  },
  {
   "cell_type": "code",
   "execution_count": 19,
   "id": "f4909bb5-f244-4e6f-8075-06e2c043afd5",
   "metadata": {},
   "outputs": [
    {
     "data": {
      "text/plain": [
       "False"
      ]
     },
     "execution_count": 19,
     "metadata": {},
     "output_type": "execute_result"
    }
   ],
   "source": [
    "False"
   ]
  },
  {
   "cell_type": "code",
   "execution_count": 20,
   "id": "c298af41-b4d4-4a5a-8d49-29a564457aad",
   "metadata": {},
   "outputs": [
    {
     "data": {
      "text/plain": [
       "2"
      ]
     },
     "execution_count": 20,
     "metadata": {},
     "output_type": "execute_result"
    }
   ],
   "source": [
    "True+True"
   ]
  },
  {
   "cell_type": "code",
   "execution_count": 22,
   "id": "6bd2105a-8268-4cca-a759-eb4d0d5573b8",
   "metadata": {},
   "outputs": [
    {
     "data": {
      "text/plain": [
       "1"
      ]
     },
     "execution_count": 22,
     "metadata": {},
     "output_type": "execute_result"
    }
   ],
   "source": [
    "True+False"
   ]
  },
  {
   "cell_type": "code",
   "execution_count": 23,
   "id": "80ce10a8-86c8-4760-85e0-10859daf1588",
   "metadata": {},
   "outputs": [
    {
     "data": {
      "text/plain": [
       "0"
      ]
     },
     "execution_count": 23,
     "metadata": {},
     "output_type": "execute_result"
    }
   ],
   "source": [
    "False+False"
   ]
  },
  {
   "cell_type": "code",
   "execution_count": 24,
   "id": "dd151414-0d57-4682-b06c-17bd147d9d6e",
   "metadata": {},
   "outputs": [
    {
     "data": {
      "text/plain": [
       "1"
      ]
     },
     "execution_count": 24,
     "metadata": {},
     "output_type": "execute_result"
    }
   ],
   "source": [
    "True-False\n",
    "True*True\n",
    "True/True\n",
    "True//True"
   ]
  },
  {
   "cell_type": "code",
   "execution_count": 28,
   "id": "dd458c3f-d260-4980-8788-ed7a28e5a6e8",
   "metadata": {},
   "outputs": [
    {
     "name": "stdout",
     "output_type": "stream",
     "text": [
      "False\n",
      "True\n",
      "False\n"
     ]
    }
   ],
   "source": [
    "a=10\n",
    "b=89\n",
    "print(a==b)\n",
    "print(a<b)\n",
    "print(a>b)"
   ]
  },
  {
   "cell_type": "raw",
   "id": "10816f79-5c93-48b3-9673-397375276e80",
   "metadata": {},
   "source": [
    "#Complex a+bj( a=Real part, b=Imaginary part)"
   ]
  },
  {
   "cell_type": "code",
   "execution_count": 29,
   "id": "f13e8498-f3bf-40e6-95d5-fd1b87f624d4",
   "metadata": {},
   "outputs": [
    {
     "data": {
      "text/plain": [
       "complex"
      ]
     },
     "execution_count": 29,
     "metadata": {},
     "output_type": "execute_result"
    }
   ],
   "source": [
    "c=12+35j\n",
    "type(c)"
   ]
  },
  {
   "cell_type": "code",
   "execution_count": 30,
   "id": "aab6aed6-7500-4b1d-8055-9bd9f9fbca6a",
   "metadata": {},
   "outputs": [
    {
     "ename": "AttributeError",
     "evalue": "'complex' object has no attribute 'imaginary'",
     "output_type": "error",
     "traceback": [
      "\u001b[1;31m---------------------------------------------------------------------------\u001b[0m",
      "\u001b[1;31mAttributeError\u001b[0m                            Traceback (most recent call last)",
      "Cell \u001b[1;32mIn[30], line 2\u001b[0m\n\u001b[0;32m      1\u001b[0m c\u001b[38;5;241m.\u001b[39mreal\n\u001b[1;32m----> 2\u001b[0m c\u001b[38;5;241m.\u001b[39mimaginary\n",
      "\u001b[1;31mAttributeError\u001b[0m: 'complex' object has no attribute 'imaginary'"
     ]
    }
   ],
   "source": [
    "c.real\n",
    "c.imaginary"
   ]
  },
  {
   "cell_type": "code",
   "execution_count": 32,
   "id": "68e67059-1aeb-4c39-b0c6-d12b795029e6",
   "metadata": {},
   "outputs": [
    {
     "data": {
      "text/plain": [
       "12.0"
      ]
     },
     "execution_count": 32,
     "metadata": {},
     "output_type": "execute_result"
    }
   ],
   "source": [
    "c.real\n"
   ]
  },
  {
   "cell_type": "code",
   "execution_count": 33,
   "id": "4e39c8ac-0ed0-4d86-9f42-36419aed07c9",
   "metadata": {},
   "outputs": [
    {
     "data": {
      "text/plain": [
       "35.0"
      ]
     },
     "execution_count": 33,
     "metadata": {},
     "output_type": "execute_result"
    }
   ],
   "source": [
    "c.imag"
   ]
  },
  {
   "cell_type": "code",
   "execution_count": 34,
   "id": "05b4b84f-c7a8-4bc0-b448-42202dfcd56b",
   "metadata": {},
   "outputs": [
    {
     "ename": "AttributeError",
     "evalue": "'complex' object has no attribute 'j'",
     "output_type": "error",
     "traceback": [
      "\u001b[1;31m---------------------------------------------------------------------------\u001b[0m",
      "\u001b[1;31mAttributeError\u001b[0m                            Traceback (most recent call last)",
      "Cell \u001b[1;32mIn[34], line 1\u001b[0m\n\u001b[1;32m----> 1\u001b[0m c\u001b[38;5;241m.\u001b[39mj\n",
      "\u001b[1;31mAttributeError\u001b[0m: 'complex' object has no attribute 'j'"
     ]
    }
   ],
   "source": [
    "c.j"
   ]
  },
  {
   "cell_type": "code",
   "execution_count": 35,
   "id": "b7095336-4e91-4ccd-aead-99d9f5f8593e",
   "metadata": {},
   "outputs": [],
   "source": [
    "c=25+45j\n",
    "d=35+65j"
   ]
  },
  {
   "cell_type": "code",
   "execution_count": 36,
   "id": "9cce290d-6a4e-4f07-b1aa-3432be2f14fa",
   "metadata": {},
   "outputs": [
    {
     "data": {
      "text/plain": [
       "(60+110j)"
      ]
     },
     "execution_count": 36,
     "metadata": {},
     "output_type": "execute_result"
    }
   ],
   "source": [
    "c+d"
   ]
  },
  {
   "cell_type": "code",
   "execution_count": 37,
   "id": "ea004b09-e30e-407c-b218-3ec0cd71decf",
   "metadata": {},
   "outputs": [
    {
     "data": {
      "text/plain": [
       "(-10-20j)"
      ]
     },
     "execution_count": 37,
     "metadata": {},
     "output_type": "execute_result"
    }
   ],
   "source": [
    "c-d"
   ]
  },
  {
   "cell_type": "code",
   "execution_count": 38,
   "id": "a1900e4d-24fb-48e0-b791-293ed2758ede",
   "metadata": {},
   "outputs": [
    {
     "data": {
      "text/plain": [
       "(-2050+3200j)"
      ]
     },
     "execution_count": 38,
     "metadata": {},
     "output_type": "execute_result"
    }
   ],
   "source": [
    "c*d"
   ]
  },
  {
   "cell_type": "code",
   "execution_count": 46,
   "id": "4ad570c6-9a4d-4a52-9a39-410e0ceba6fb",
   "metadata": {},
   "outputs": [
    {
     "data": {
      "text/plain": [
       "['False',\n",
       " 'None',\n",
       " 'True',\n",
       " 'and',\n",
       " 'as',\n",
       " 'assert',\n",
       " 'async',\n",
       " 'await',\n",
       " 'break',\n",
       " 'class',\n",
       " 'continue',\n",
       " 'def',\n",
       " 'del',\n",
       " 'elif',\n",
       " 'else',\n",
       " 'except',\n",
       " 'finally',\n",
       " 'for',\n",
       " 'from',\n",
       " 'global',\n",
       " 'if',\n",
       " 'import',\n",
       " 'in',\n",
       " 'is',\n",
       " 'lambda',\n",
       " 'nonlocal',\n",
       " 'not',\n",
       " 'or',\n",
       " 'pass',\n",
       " 'raise',\n",
       " 'return',\n",
       " 'try',\n",
       " 'while',\n",
       " 'with',\n",
       " 'yield']"
      ]
     },
     "execution_count": 46,
     "metadata": {},
     "output_type": "execute_result"
    }
   ],
   "source": [
    "import keyword\n",
    "keyword.kwlist"
   ]
  },
  {
   "cell_type": "code",
   "execution_count": 47,
   "id": "39b8c422-935a-44d9-b2fe-913cc9312232",
   "metadata": {},
   "outputs": [
    {
     "data": {
      "text/plain": [
       "35"
      ]
     },
     "execution_count": 47,
     "metadata": {},
     "output_type": "execute_result"
    }
   ],
   "source": [
    "len(keyword.kwlist)"
   ]
  },
  {
   "cell_type": "code",
   "execution_count": null,
   "id": "9a96f8db-74ee-4a1e-b932-fd4c540fc22a",
   "metadata": {},
   "outputs": [],
   "source": []
  }
 ],
 "metadata": {
  "kernelspec": {
   "display_name": "Python 3 (ipykernel)",
   "language": "python",
   "name": "python3"
  },
  "language_info": {
   "codemirror_mode": {
    "name": "ipython",
    "version": 3
   },
   "file_extension": ".py",
   "mimetype": "text/x-python",
   "name": "python",
   "nbconvert_exporter": "python",
   "pygments_lexer": "ipython3",
   "version": "3.13.5"
  }
 },
 "nbformat": 4,
 "nbformat_minor": 5
}

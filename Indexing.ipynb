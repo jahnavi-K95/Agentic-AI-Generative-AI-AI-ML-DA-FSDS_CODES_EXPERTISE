{
 "cells": [
  {
   "cell_type": "markdown",
   "id": "ebf7707f-2e9b-47c9-b079-9d350ff6f353",
   "metadata": {},
   "source": [
    "Data types= Integer,Float, Boolean, String, Complex\n"
   ]
  },
  {
   "cell_type": "code",
   "execution_count": 1,
   "id": "1c35cda0-57bc-4fc0-be1d-337fee476fbb",
   "metadata": {},
   "outputs": [],
   "source": [
    "a=10"
   ]
  },
  {
   "cell_type": "code",
   "execution_count": 2,
   "id": "5f3e255d-de67-45ad-bab8-7048a548ffb1",
   "metadata": {},
   "outputs": [
    {
     "name": "stdout",
     "output_type": "stream",
     "text": [
      "10\n"
     ]
    }
   ],
   "source": [
    "print(a)"
   ]
  },
  {
   "cell_type": "code",
   "execution_count": 3,
   "id": "2462564a-f76a-4f80-9b6f-91854e616c75",
   "metadata": {},
   "outputs": [
    {
     "data": {
      "text/plain": [
       "140709710378184"
      ]
     },
     "execution_count": 3,
     "metadata": {},
     "output_type": "execute_result"
    }
   ],
   "source": [
    "id(a)"
   ]
  },
  {
   "cell_type": "code",
   "execution_count": 4,
   "id": "845e9ba8-241f-43d8-92dc-43cec35a5e94",
   "metadata": {},
   "outputs": [],
   "source": [
    "b='Python Programming'"
   ]
  },
  {
   "cell_type": "code",
   "execution_count": 5,
   "id": "b17b7853-a45b-49aa-a009-b2c2b683b8bd",
   "metadata": {},
   "outputs": [
    {
     "data": {
      "text/plain": [
       "18"
      ]
     },
     "execution_count": 5,
     "metadata": {},
     "output_type": "execute_result"
    }
   ],
   "source": [
    "len(b)"
   ]
  },
  {
   "cell_type": "raw",
   "id": "e22f908d-0c71-4af4-9af0-d9d153e2e646",
   "metadata": {},
   "source": [
    "#Indexing \n",
    "> It is a Integer\n",
    ">Accesible in [] brackets\n",
    "> Forward,Backward & Step Index"
   ]
  },
  {
   "cell_type": "raw",
   "id": "8e9f7398-114e-4a43-971d-a9e388d51ae7",
   "metadata": {},
   "source": [
    "1. Forward Index -> Positive Index which starts from left to Right and starts from 0"
   ]
  },
  {
   "cell_type": "code",
   "execution_count": 6,
   "id": "9fb3689e-b19f-459f-97a8-c4ccfa43e458",
   "metadata": {},
   "outputs": [],
   "source": [
    "a= 'Hello'"
   ]
  },
  {
   "cell_type": "code",
   "execution_count": 7,
   "id": "f33a220e-d3ca-4411-b94d-8c42ee3ec25d",
   "metadata": {},
   "outputs": [
    {
     "data": {
      "text/plain": [
       "'Hello'"
      ]
     },
     "execution_count": 7,
     "metadata": {},
     "output_type": "execute_result"
    }
   ],
   "source": [
    "a"
   ]
  },
  {
   "cell_type": "code",
   "execution_count": 8,
   "id": "06dd9266-6176-42de-9c6f-397672d1553e",
   "metadata": {},
   "outputs": [
    {
     "data": {
      "text/plain": [
       "'H'"
      ]
     },
     "execution_count": 8,
     "metadata": {},
     "output_type": "execute_result"
    }
   ],
   "source": [
    "a[0]"
   ]
  },
  {
   "cell_type": "code",
   "execution_count": 9,
   "id": "48ffb530-7dfd-4137-a356-5fa45e092386",
   "metadata": {},
   "outputs": [
    {
     "data": {
      "text/plain": [
       "'o'"
      ]
     },
     "execution_count": 9,
     "metadata": {},
     "output_type": "execute_result"
    }
   ],
   "source": [
    "a[0]\n",
    "a[1]\n",
    "a[2]\n",
    "a[3]\n",
    "a[4]"
   ]
  },
  {
   "cell_type": "code",
   "execution_count": 10,
   "id": "56ee10eb-811e-4914-b120-e396bd9bbe19",
   "metadata": {},
   "outputs": [
    {
     "name": "stdout",
     "output_type": "stream",
     "text": [
      "H\n",
      "e\n",
      "l\n",
      "l\n",
      "o\n"
     ]
    }
   ],
   "source": [
    "print(a[0])\n",
    "print(a[1])\n",
    "print(a[2])\n",
    "print(a[3])\n",
    "print(a[4])\n"
   ]
  },
  {
   "cell_type": "code",
   "execution_count": 11,
   "id": "cb993826-a316-4d1d-805b-1d3d1ba3debb",
   "metadata": {},
   "outputs": [],
   "source": [
    "b='Mumbai'"
   ]
  },
  {
   "cell_type": "code",
   "execution_count": 12,
   "id": "ee4e345b-b16e-4ce4-8205-6cdcf311fb86",
   "metadata": {},
   "outputs": [
    {
     "data": {
      "text/plain": [
       "'i'"
      ]
     },
     "execution_count": 12,
     "metadata": {},
     "output_type": "execute_result"
    }
   ],
   "source": [
    "b[-1]"
   ]
  },
  {
   "cell_type": "code",
   "execution_count": 13,
   "id": "dd352d93-94df-4064-a382-e3110a6571ab",
   "metadata": {},
   "outputs": [
    {
     "name": "stdout",
     "output_type": "stream",
     "text": [
      "M\n",
      "u\n",
      "m\n",
      "b\n",
      "a\n",
      "i\n"
     ]
    }
   ],
   "source": [
    "print(b[-6])\n",
    "print(b[-5])\n",
    "print(b[-4])\n",
    "print(b[-3])\n",
    "print(b[-2])\n",
    "print(b[-1])\n"
   ]
  },
  {
   "cell_type": "markdown",
   "id": "48f933b4-ff2b-4c60-8aad-a2e93358fced",
   "metadata": {},
   "source": [
    "#SLICING [:], Default=0, Default value= Length of the string\n",
    "starts withe +ve index which states[start<end]"
   ]
  },
  {
   "cell_type": "code",
   "execution_count": 14,
   "id": "b765ab69-808d-4c86-9dae-98be917589b8",
   "metadata": {},
   "outputs": [],
   "source": [
    "b=' Hello Mumbai'"
   ]
  },
  {
   "cell_type": "code",
   "execution_count": 15,
   "id": "316b3263-ea80-449a-9e0f-d6d23bfe4066",
   "metadata": {},
   "outputs": [
    {
     "data": {
      "text/plain": [
       "' Hello '"
      ]
     },
     "execution_count": 15,
     "metadata": {},
     "output_type": "execute_result"
    }
   ],
   "source": [
    "b[:7]"
   ]
  },
  {
   "cell_type": "code",
   "execution_count": 16,
   "id": "841198db-1dc4-400d-81d8-c3bf4ab594ca",
   "metadata": {},
   "outputs": [
    {
     "data": {
      "text/plain": [
       "' Hello Mu'"
      ]
     },
     "execution_count": 16,
     "metadata": {},
     "output_type": "execute_result"
    }
   ],
   "source": [
    "b[:9]"
   ]
  },
  {
   "cell_type": "code",
   "execution_count": 17,
   "id": "ced69b79-373c-49e7-9321-4b8411097b68",
   "metadata": {},
   "outputs": [
    {
     "data": {
      "text/plain": [
       "' Hello Mumbai'"
      ]
     },
     "execution_count": 17,
     "metadata": {},
     "output_type": "execute_result"
    }
   ],
   "source": [
    "b[0:]"
   ]
  },
  {
   "cell_type": "code",
   "execution_count": 18,
   "id": "af369840-73f6-4804-85fe-4e83ca9741fe",
   "metadata": {},
   "outputs": [
    {
     "data": {
      "text/plain": [
       "'mbai'"
      ]
     },
     "execution_count": 18,
     "metadata": {},
     "output_type": "execute_result"
    }
   ],
   "source": [
    "b[9:]"
   ]
  },
  {
   "cell_type": "code",
   "execution_count": 19,
   "id": "487e61d2-7329-462b-9815-db8101331f46",
   "metadata": {},
   "outputs": [
    {
     "data": {
      "text/plain": [
       "' Hello Mumb'"
      ]
     },
     "execution_count": 19,
     "metadata": {},
     "output_type": "execute_result"
    }
   ],
   "source": [
    "b[:-2]"
   ]
  },
  {
   "cell_type": "code",
   "execution_count": 21,
   "id": "48c42f36-22fd-428a-ad66-6249eced4b4d",
   "metadata": {},
   "outputs": [
    {
     "data": {
      "text/plain": [
       "''"
      ]
     },
     "execution_count": 21,
     "metadata": {},
     "output_type": "execute_result"
    }
   ],
   "source": [
    "b[-2:-6]"
   ]
  },
  {
   "cell_type": "code",
   "execution_count": 22,
   "id": "254b8c6e-97f4-4f98-8412-0a36871f2771",
   "metadata": {},
   "outputs": [
    {
     "data": {
      "text/plain": [
       "' Hello Mumbai'"
      ]
     },
     "execution_count": 22,
     "metadata": {},
     "output_type": "execute_result"
    }
   ],
   "source": [
    "b"
   ]
  },
  {
   "cell_type": "code",
   "execution_count": 23,
   "id": "2dca9b22-c527-4ee0-912a-03a010a915ee",
   "metadata": {},
   "outputs": [
    {
     "data": {
      "text/plain": [
       "'Hello Mu'"
      ]
     },
     "execution_count": 23,
     "metadata": {},
     "output_type": "execute_result"
    }
   ],
   "source": [
    "b[1:9:1]"
   ]
  },
  {
   "cell_type": "code",
   "execution_count": 24,
   "id": "6e41ba84-038b-49d2-b866-89326e052521",
   "metadata": {},
   "outputs": [
    {
     "data": {
      "text/plain": [
       "'i'"
      ]
     },
     "execution_count": 24,
     "metadata": {},
     "output_type": "execute_result"
    }
   ],
   "source": [
    "b[-1::1]"
   ]
  },
  {
   "cell_type": "code",
   "execution_count": 25,
   "id": "32563993-8733-4d68-9370-24b3491404b9",
   "metadata": {},
   "outputs": [
    {
     "data": {
      "text/plain": [
       "'iabmuM olleH '"
      ]
     },
     "execution_count": 25,
     "metadata": {},
     "output_type": "execute_result"
    }
   ],
   "source": [
    "b[-1::-1]"
   ]
  },
  {
   "cell_type": "code",
   "execution_count": null,
   "id": "c11afa5f-f4c1-4a2e-89cc-d2bc9b915af5",
   "metadata": {},
   "outputs": [],
   "source": []
  }
 ],
 "metadata": {
  "kernelspec": {
   "display_name": "Python 3 (ipykernel)",
   "language": "python",
   "name": "python3"
  },
  "language_info": {
   "codemirror_mode": {
    "name": "ipython",
    "version": 3
   },
   "file_extension": ".py",
   "mimetype": "text/x-python",
   "name": "python",
   "nbconvert_exporter": "python",
   "pygments_lexer": "ipython3",
   "version": "3.13.5"
  }
 },
 "nbformat": 4,
 "nbformat_minor": 5
}
